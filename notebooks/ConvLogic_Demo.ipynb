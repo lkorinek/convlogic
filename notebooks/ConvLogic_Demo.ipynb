{
 "cells": [
  {
   "cell_type": "markdown",
   "metadata": {
    "id": "IamiUVMjbl46"
   },
   "source": [
    "# Building and Training a Custom ConvLogic Model for MNIST"
   ]
  },
  {
   "cell_type": "markdown",
   "metadata": {
    "id": "RrIvJRtLbxAv"
   },
   "source": [
    "## 🔧 Clone & Install ConvLogic Repository\n",
    "\n",
    "We begin by cloning the `convlogic` GitHub repository and installing all necessary dependencies."
   ]
  },
  {
   "cell_type": "code",
   "execution_count": 2,
   "metadata": {
    "colab": {
     "base_uri": "https://localhost:8080/"
    },
    "collapsed": true,
    "id": "v0e6RymfHnFa",
    "outputId": "dd4b9ed8-4971-4c50-9237-0a91b723f93e"
   },
   "outputs": [
    {
     "name": "stdout",
     "output_type": "stream",
     "text": [
      "Cloning into 'convlogic'...\n",
      "remote: Enumerating objects: 97, done.\u001b[K\n",
      "remote: Counting objects: 100% (97/97), done.\u001b[K\n",
      "remote: Compressing objects: 100% (76/76), done.\u001b[K\n",
      "remote: Total 97 (delta 20), reused 90 (delta 16), pack-reused 0 (from 0)\u001b[K\n",
      "Receiving objects: 100% (97/97), 557.12 KiB | 9.61 MiB/s, done.\n",
      "Resolving deltas: 100% (20/20), done.\n"
     ]
    }
   ],
   "source": [
    "!git clone https://github.com/lkorinek/convlogic.git"
   ]
  },
  {
   "cell_type": "code",
   "execution_count": 3,
   "metadata": {
    "colab": {
     "base_uri": "https://localhost:8080/"
    },
    "collapsed": true,
    "id": "ghVCbcCBW3R3",
    "outputId": "0440ca51-37f7-4d25-da03-f62b59b9a121"
   },
   "outputs": [
    {
     "name": "stdout",
     "output_type": "stream",
     "text": [
      "Collecting torch==2.7.0 (from -r convlogic/requirements.txt (line 1))\n",
      "  Downloading torch-2.7.0-cp311-cp311-manylinux_2_28_x86_64.whl.metadata (29 kB)\n",
      "Requirement already satisfied: tqdm==4.67.1 in /usr/local/lib/python3.11/dist-packages (from -r convlogic/requirements.txt (line 2)) (4.67.1)\n",
      "Requirement already satisfied: scikit-learn==1.6.1 in /usr/local/lib/python3.11/dist-packages (from -r convlogic/requirements.txt (line 3)) (1.6.1)\n",
      "Collecting torchvision==0.22.0 (from -r convlogic/requirements.txt (line 4))\n",
      "  Downloading torchvision-0.22.0-cp311-cp311-manylinux_2_28_x86_64.whl.metadata (6.1 kB)\n",
      "Collecting matplotlib==3.10.3 (from -r convlogic/requirements.txt (line 5))\n",
      "  Downloading matplotlib-3.10.3-cp311-cp311-manylinux_2_17_x86_64.manylinux2014_x86_64.whl.metadata (11 kB)\n",
      "Requirement already satisfied: wandb==0.19.11 in /usr/local/lib/python3.11/dist-packages (from -r convlogic/requirements.txt (line 6)) (0.19.11)\n",
      "Collecting lightning==2.3.3 (from -r convlogic/requirements.txt (line 7))\n",
      "  Downloading lightning-2.3.3-py3-none-any.whl.metadata (35 kB)\n",
      "Collecting hydra-core==1.3.2 (from -r convlogic/requirements.txt (line 8))\n",
      "  Downloading hydra_core-1.3.2-py3-none-any.whl.metadata (5.5 kB)\n",
      "Requirement already satisfied: filelock in /usr/local/lib/python3.11/dist-packages (from torch==2.7.0->-r convlogic/requirements.txt (line 1)) (3.18.0)\n",
      "Requirement already satisfied: typing-extensions>=4.10.0 in /usr/local/lib/python3.11/dist-packages (from torch==2.7.0->-r convlogic/requirements.txt (line 1)) (4.13.2)\n",
      "Collecting sympy>=1.13.3 (from torch==2.7.0->-r convlogic/requirements.txt (line 1))\n",
      "  Downloading sympy-1.14.0-py3-none-any.whl.metadata (12 kB)\n",
      "Requirement already satisfied: networkx in /usr/local/lib/python3.11/dist-packages (from torch==2.7.0->-r convlogic/requirements.txt (line 1)) (3.4.2)\n",
      "Requirement already satisfied: jinja2 in /usr/local/lib/python3.11/dist-packages (from torch==2.7.0->-r convlogic/requirements.txt (line 1)) (3.1.6)\n",
      "Requirement already satisfied: fsspec in /usr/local/lib/python3.11/dist-packages (from torch==2.7.0->-r convlogic/requirements.txt (line 1)) (2025.3.2)\n",
      "Collecting nvidia-cuda-nvrtc-cu12==12.6.77 (from torch==2.7.0->-r convlogic/requirements.txt (line 1))\n",
      "  Downloading nvidia_cuda_nvrtc_cu12-12.6.77-py3-none-manylinux2014_x86_64.whl.metadata (1.5 kB)\n",
      "Collecting nvidia-cuda-runtime-cu12==12.6.77 (from torch==2.7.0->-r convlogic/requirements.txt (line 1))\n",
      "  Downloading nvidia_cuda_runtime_cu12-12.6.77-py3-none-manylinux2014_x86_64.manylinux_2_17_x86_64.whl.metadata (1.5 kB)\n",
      "Collecting nvidia-cuda-cupti-cu12==12.6.80 (from torch==2.7.0->-r convlogic/requirements.txt (line 1))\n",
      "  Downloading nvidia_cuda_cupti_cu12-12.6.80-py3-none-manylinux2014_x86_64.manylinux_2_17_x86_64.whl.metadata (1.6 kB)\n",
      "Collecting nvidia-cudnn-cu12==9.5.1.17 (from torch==2.7.0->-r convlogic/requirements.txt (line 1))\n",
      "  Downloading nvidia_cudnn_cu12-9.5.1.17-py3-none-manylinux_2_28_x86_64.whl.metadata (1.6 kB)\n",
      "Collecting nvidia-cublas-cu12==12.6.4.1 (from torch==2.7.0->-r convlogic/requirements.txt (line 1))\n",
      "  Downloading nvidia_cublas_cu12-12.6.4.1-py3-none-manylinux2014_x86_64.manylinux_2_17_x86_64.whl.metadata (1.5 kB)\n",
      "Collecting nvidia-cufft-cu12==11.3.0.4 (from torch==2.7.0->-r convlogic/requirements.txt (line 1))\n",
      "  Downloading nvidia_cufft_cu12-11.3.0.4-py3-none-manylinux2014_x86_64.manylinux_2_17_x86_64.whl.metadata (1.5 kB)\n",
      "Collecting nvidia-curand-cu12==10.3.7.77 (from torch==2.7.0->-r convlogic/requirements.txt (line 1))\n",
      "  Downloading nvidia_curand_cu12-10.3.7.77-py3-none-manylinux2014_x86_64.manylinux_2_17_x86_64.whl.metadata (1.5 kB)\n",
      "Collecting nvidia-cusolver-cu12==11.7.1.2 (from torch==2.7.0->-r convlogic/requirements.txt (line 1))\n",
      "  Downloading nvidia_cusolver_cu12-11.7.1.2-py3-none-manylinux2014_x86_64.manylinux_2_17_x86_64.whl.metadata (1.6 kB)\n",
      "Collecting nvidia-cusparse-cu12==12.5.4.2 (from torch==2.7.0->-r convlogic/requirements.txt (line 1))\n",
      "  Downloading nvidia_cusparse_cu12-12.5.4.2-py3-none-manylinux2014_x86_64.manylinux_2_17_x86_64.whl.metadata (1.6 kB)\n",
      "Collecting nvidia-cusparselt-cu12==0.6.3 (from torch==2.7.0->-r convlogic/requirements.txt (line 1))\n",
      "  Downloading nvidia_cusparselt_cu12-0.6.3-py3-none-manylinux2014_x86_64.whl.metadata (6.8 kB)\n",
      "Collecting nvidia-nccl-cu12==2.26.2 (from torch==2.7.0->-r convlogic/requirements.txt (line 1))\n",
      "  Downloading nvidia_nccl_cu12-2.26.2-py3-none-manylinux2014_x86_64.manylinux_2_17_x86_64.whl.metadata (2.0 kB)\n",
      "Collecting nvidia-nvtx-cu12==12.6.77 (from torch==2.7.0->-r convlogic/requirements.txt (line 1))\n",
      "  Downloading nvidia_nvtx_cu12-12.6.77-py3-none-manylinux2014_x86_64.manylinux_2_17_x86_64.whl.metadata (1.6 kB)\n",
      "Collecting nvidia-nvjitlink-cu12==12.6.85 (from torch==2.7.0->-r convlogic/requirements.txt (line 1))\n",
      "  Downloading nvidia_nvjitlink_cu12-12.6.85-py3-none-manylinux2010_x86_64.manylinux_2_12_x86_64.whl.metadata (1.5 kB)\n",
      "Collecting nvidia-cufile-cu12==1.11.1.6 (from torch==2.7.0->-r convlogic/requirements.txt (line 1))\n",
      "  Downloading nvidia_cufile_cu12-1.11.1.6-py3-none-manylinux2014_x86_64.manylinux_2_17_x86_64.whl.metadata (1.5 kB)\n",
      "Collecting triton==3.3.0 (from torch==2.7.0->-r convlogic/requirements.txt (line 1))\n",
      "  Downloading triton-3.3.0-cp311-cp311-manylinux_2_27_x86_64.manylinux_2_28_x86_64.whl.metadata (1.5 kB)\n",
      "Requirement already satisfied: numpy>=1.19.5 in /usr/local/lib/python3.11/dist-packages (from scikit-learn==1.6.1->-r convlogic/requirements.txt (line 3)) (2.0.2)\n",
      "Requirement already satisfied: scipy>=1.6.0 in /usr/local/lib/python3.11/dist-packages (from scikit-learn==1.6.1->-r convlogic/requirements.txt (line 3)) (1.15.3)\n",
      "Requirement already satisfied: joblib>=1.2.0 in /usr/local/lib/python3.11/dist-packages (from scikit-learn==1.6.1->-r convlogic/requirements.txt (line 3)) (1.5.0)\n",
      "Requirement already satisfied: threadpoolctl>=3.1.0 in /usr/local/lib/python3.11/dist-packages (from scikit-learn==1.6.1->-r convlogic/requirements.txt (line 3)) (3.6.0)\n",
      "Requirement already satisfied: pillow!=8.3.*,>=5.3.0 in /usr/local/lib/python3.11/dist-packages (from torchvision==0.22.0->-r convlogic/requirements.txt (line 4)) (11.2.1)\n",
      "Requirement already satisfied: contourpy>=1.0.1 in /usr/local/lib/python3.11/dist-packages (from matplotlib==3.10.3->-r convlogic/requirements.txt (line 5)) (1.3.2)\n",
      "Requirement already satisfied: cycler>=0.10 in /usr/local/lib/python3.11/dist-packages (from matplotlib==3.10.3->-r convlogic/requirements.txt (line 5)) (0.12.1)\n",
      "Requirement already satisfied: fonttools>=4.22.0 in /usr/local/lib/python3.11/dist-packages (from matplotlib==3.10.3->-r convlogic/requirements.txt (line 5)) (4.58.0)\n",
      "Requirement already satisfied: kiwisolver>=1.3.1 in /usr/local/lib/python3.11/dist-packages (from matplotlib==3.10.3->-r convlogic/requirements.txt (line 5)) (1.4.8)\n",
      "Requirement already satisfied: packaging>=20.0 in /usr/local/lib/python3.11/dist-packages (from matplotlib==3.10.3->-r convlogic/requirements.txt (line 5)) (24.2)\n",
      "Requirement already satisfied: pyparsing>=2.3.1 in /usr/local/lib/python3.11/dist-packages (from matplotlib==3.10.3->-r convlogic/requirements.txt (line 5)) (3.2.3)\n",
      "Requirement already satisfied: python-dateutil>=2.7 in /usr/local/lib/python3.11/dist-packages (from matplotlib==3.10.3->-r convlogic/requirements.txt (line 5)) (2.9.0.post0)\n",
      "Requirement already satisfied: click!=8.0.0,>=7.1 in /usr/local/lib/python3.11/dist-packages (from wandb==0.19.11->-r convlogic/requirements.txt (line 6)) (8.2.0)\n",
      "Requirement already satisfied: docker-pycreds>=0.4.0 in /usr/local/lib/python3.11/dist-packages (from wandb==0.19.11->-r convlogic/requirements.txt (line 6)) (0.4.0)\n",
      "Requirement already satisfied: gitpython!=3.1.29,>=1.0.0 in /usr/local/lib/python3.11/dist-packages (from wandb==0.19.11->-r convlogic/requirements.txt (line 6)) (3.1.44)\n",
      "Requirement already satisfied: platformdirs in /usr/local/lib/python3.11/dist-packages (from wandb==0.19.11->-r convlogic/requirements.txt (line 6)) (4.3.8)\n",
      "Requirement already satisfied: protobuf!=4.21.0,!=5.28.0,<7,>=3.19.0 in /usr/local/lib/python3.11/dist-packages (from wandb==0.19.11->-r convlogic/requirements.txt (line 6)) (5.29.4)\n",
      "Requirement already satisfied: psutil>=5.0.0 in /usr/local/lib/python3.11/dist-packages (from wandb==0.19.11->-r convlogic/requirements.txt (line 6)) (5.9.5)\n",
      "Requirement already satisfied: pydantic<3 in /usr/local/lib/python3.11/dist-packages (from wandb==0.19.11->-r convlogic/requirements.txt (line 6)) (2.11.4)\n",
      "Requirement already satisfied: pyyaml in /usr/local/lib/python3.11/dist-packages (from wandb==0.19.11->-r convlogic/requirements.txt (line 6)) (6.0.2)\n",
      "Requirement already satisfied: requests<3,>=2.0.0 in /usr/local/lib/python3.11/dist-packages (from wandb==0.19.11->-r convlogic/requirements.txt (line 6)) (2.32.3)\n",
      "Requirement already satisfied: sentry-sdk>=2.0.0 in /usr/local/lib/python3.11/dist-packages (from wandb==0.19.11->-r convlogic/requirements.txt (line 6)) (2.28.0)\n",
      "Requirement already satisfied: setproctitle in /usr/local/lib/python3.11/dist-packages (from wandb==0.19.11->-r convlogic/requirements.txt (line 6)) (1.3.6)\n",
      "Requirement already satisfied: setuptools in /usr/local/lib/python3.11/dist-packages (from wandb==0.19.11->-r convlogic/requirements.txt (line 6)) (75.2.0)\n",
      "Collecting lightning-utilities<2.0,>=0.10.0 (from lightning==2.3.3->-r convlogic/requirements.txt (line 7))\n",
      "  Downloading lightning_utilities-0.14.3-py3-none-any.whl.metadata (5.6 kB)\n",
      "Collecting torchmetrics<3.0,>=0.7.0 (from lightning==2.3.3->-r convlogic/requirements.txt (line 7))\n",
      "  Downloading torchmetrics-1.7.1-py3-none-any.whl.metadata (21 kB)\n",
      "Collecting pytorch-lightning (from lightning==2.3.3->-r convlogic/requirements.txt (line 7))\n",
      "  Downloading pytorch_lightning-2.5.1.post0-py3-none-any.whl.metadata (20 kB)\n",
      "Requirement already satisfied: omegaconf<2.4,>=2.2 in /usr/local/lib/python3.11/dist-packages (from hydra-core==1.3.2->-r convlogic/requirements.txt (line 8)) (2.3.0)\n",
      "Requirement already satisfied: antlr4-python3-runtime==4.9.* in /usr/local/lib/python3.11/dist-packages (from hydra-core==1.3.2->-r convlogic/requirements.txt (line 8)) (4.9.3)\n",
      "Requirement already satisfied: six>=1.4.0 in /usr/local/lib/python3.11/dist-packages (from docker-pycreds>=0.4.0->wandb==0.19.11->-r convlogic/requirements.txt (line 6)) (1.17.0)\n",
      "Requirement already satisfied: aiohttp!=4.0.0a0,!=4.0.0a1 in /usr/local/lib/python3.11/dist-packages (from fsspec[http]<2026.0,>=2022.5.0->lightning==2.3.3->-r convlogic/requirements.txt (line 7)) (3.11.15)\n",
      "Requirement already satisfied: gitdb<5,>=4.0.1 in /usr/local/lib/python3.11/dist-packages (from gitpython!=3.1.29,>=1.0.0->wandb==0.19.11->-r convlogic/requirements.txt (line 6)) (4.0.12)\n",
      "Requirement already satisfied: annotated-types>=0.6.0 in /usr/local/lib/python3.11/dist-packages (from pydantic<3->wandb==0.19.11->-r convlogic/requirements.txt (line 6)) (0.7.0)\n",
      "Requirement already satisfied: pydantic-core==2.33.2 in /usr/local/lib/python3.11/dist-packages (from pydantic<3->wandb==0.19.11->-r convlogic/requirements.txt (line 6)) (2.33.2)\n",
      "Requirement already satisfied: typing-inspection>=0.4.0 in /usr/local/lib/python3.11/dist-packages (from pydantic<3->wandb==0.19.11->-r convlogic/requirements.txt (line 6)) (0.4.0)\n",
      "Requirement already satisfied: charset-normalizer<4,>=2 in /usr/local/lib/python3.11/dist-packages (from requests<3,>=2.0.0->wandb==0.19.11->-r convlogic/requirements.txt (line 6)) (3.4.2)\n",
      "Requirement already satisfied: idna<4,>=2.5 in /usr/local/lib/python3.11/dist-packages (from requests<3,>=2.0.0->wandb==0.19.11->-r convlogic/requirements.txt (line 6)) (3.10)\n",
      "Requirement already satisfied: urllib3<3,>=1.21.1 in /usr/local/lib/python3.11/dist-packages (from requests<3,>=2.0.0->wandb==0.19.11->-r convlogic/requirements.txt (line 6)) (2.4.0)\n",
      "Requirement already satisfied: certifi>=2017.4.17 in /usr/local/lib/python3.11/dist-packages (from requests<3,>=2.0.0->wandb==0.19.11->-r convlogic/requirements.txt (line 6)) (2025.4.26)\n",
      "Requirement already satisfied: mpmath<1.4,>=1.1.0 in /usr/local/lib/python3.11/dist-packages (from sympy>=1.13.3->torch==2.7.0->-r convlogic/requirements.txt (line 1)) (1.3.0)\n",
      "Requirement already satisfied: MarkupSafe>=2.0 in /usr/local/lib/python3.11/dist-packages (from jinja2->torch==2.7.0->-r convlogic/requirements.txt (line 1)) (3.0.2)\n",
      "Requirement already satisfied: aiohappyeyeballs>=2.3.0 in /usr/local/lib/python3.11/dist-packages (from aiohttp!=4.0.0a0,!=4.0.0a1->fsspec[http]<2026.0,>=2022.5.0->lightning==2.3.3->-r convlogic/requirements.txt (line 7)) (2.6.1)\n",
      "Requirement already satisfied: aiosignal>=1.1.2 in /usr/local/lib/python3.11/dist-packages (from aiohttp!=4.0.0a0,!=4.0.0a1->fsspec[http]<2026.0,>=2022.5.0->lightning==2.3.3->-r convlogic/requirements.txt (line 7)) (1.3.2)\n",
      "Requirement already satisfied: attrs>=17.3.0 in /usr/local/lib/python3.11/dist-packages (from aiohttp!=4.0.0a0,!=4.0.0a1->fsspec[http]<2026.0,>=2022.5.0->lightning==2.3.3->-r convlogic/requirements.txt (line 7)) (25.3.0)\n",
      "Requirement already satisfied: frozenlist>=1.1.1 in /usr/local/lib/python3.11/dist-packages (from aiohttp!=4.0.0a0,!=4.0.0a1->fsspec[http]<2026.0,>=2022.5.0->lightning==2.3.3->-r convlogic/requirements.txt (line 7)) (1.6.0)\n",
      "Requirement already satisfied: multidict<7.0,>=4.5 in /usr/local/lib/python3.11/dist-packages (from aiohttp!=4.0.0a0,!=4.0.0a1->fsspec[http]<2026.0,>=2022.5.0->lightning==2.3.3->-r convlogic/requirements.txt (line 7)) (6.4.3)\n",
      "Requirement already satisfied: propcache>=0.2.0 in /usr/local/lib/python3.11/dist-packages (from aiohttp!=4.0.0a0,!=4.0.0a1->fsspec[http]<2026.0,>=2022.5.0->lightning==2.3.3->-r convlogic/requirements.txt (line 7)) (0.3.1)\n",
      "Requirement already satisfied: yarl<2.0,>=1.17.0 in /usr/local/lib/python3.11/dist-packages (from aiohttp!=4.0.0a0,!=4.0.0a1->fsspec[http]<2026.0,>=2022.5.0->lightning==2.3.3->-r convlogic/requirements.txt (line 7)) (1.20.0)\n",
      "Requirement already satisfied: smmap<6,>=3.0.1 in /usr/local/lib/python3.11/dist-packages (from gitdb<5,>=4.0.1->gitpython!=3.1.29,>=1.0.0->wandb==0.19.11->-r convlogic/requirements.txt (line 6)) (5.0.2)\n",
      "Downloading torch-2.7.0-cp311-cp311-manylinux_2_28_x86_64.whl (865.2 MB)\n",
      "\u001b[2K   \u001b[90m━━━━━━━━━━━━━━━━━━━━━━━━━━━━━━━━━━━━━━━━\u001b[0m \u001b[32m865.2/865.2 MB\u001b[0m \u001b[31m1.1 MB/s\u001b[0m eta \u001b[36m0:00:00\u001b[0m\n",
      "\u001b[?25hDownloading torchvision-0.22.0-cp311-cp311-manylinux_2_28_x86_64.whl (7.4 MB)\n",
      "\u001b[2K   \u001b[90m━━━━━━━━━━━━━━━━━━━━━━━━━━━━━━━━━━━━━━━━\u001b[0m \u001b[32m7.4/7.4 MB\u001b[0m \u001b[31m116.6 MB/s\u001b[0m eta \u001b[36m0:00:00\u001b[0m\n",
      "\u001b[?25hDownloading matplotlib-3.10.3-cp311-cp311-manylinux_2_17_x86_64.manylinux2014_x86_64.whl (8.6 MB)\n",
      "\u001b[2K   \u001b[90m━━━━━━━━━━━━━━━━━━━━━━━━━━━━━━━━━━━━━━━━\u001b[0m \u001b[32m8.6/8.6 MB\u001b[0m \u001b[31m114.4 MB/s\u001b[0m eta \u001b[36m0:00:00\u001b[0m\n",
      "\u001b[?25hDownloading lightning-2.3.3-py3-none-any.whl (808 kB)\n",
      "\u001b[2K   \u001b[90m━━━━━━━━━━━━━━━━━━━━━━━━━━━━━━━━━━━━━━━━\u001b[0m \u001b[32m808.5/808.5 kB\u001b[0m \u001b[31m44.2 MB/s\u001b[0m eta \u001b[36m0:00:00\u001b[0m\n",
      "\u001b[?25hDownloading hydra_core-1.3.2-py3-none-any.whl (154 kB)\n",
      "\u001b[2K   \u001b[90m━━━━━━━━━━━━━━━━━━━━━━━━━━━━━━━━━━━━━━━━\u001b[0m \u001b[32m154.5/154.5 kB\u001b[0m \u001b[31m12.6 MB/s\u001b[0m eta \u001b[36m0:00:00\u001b[0m\n",
      "\u001b[?25hDownloading nvidia_cublas_cu12-12.6.4.1-py3-none-manylinux2014_x86_64.manylinux_2_17_x86_64.whl (393.1 MB)\n",
      "\u001b[2K   \u001b[90m━━━━━━━━━━━━━━━━━━━━━━━━━━━━━━━━━━━━━━━━\u001b[0m \u001b[32m393.1/393.1 MB\u001b[0m \u001b[31m3.6 MB/s\u001b[0m eta \u001b[36m0:00:00\u001b[0m\n",
      "\u001b[?25hDownloading nvidia_cuda_cupti_cu12-12.6.80-py3-none-manylinux2014_x86_64.manylinux_2_17_x86_64.whl (8.9 MB)\n",
      "\u001b[2K   \u001b[90m━━━━━━━━━━━━━━━━━━━━━━━━━━━━━━━━━━━━━━━━\u001b[0m \u001b[32m8.9/8.9 MB\u001b[0m \u001b[31m82.7 MB/s\u001b[0m eta \u001b[36m0:00:00\u001b[0m\n",
      "\u001b[?25hDownloading nvidia_cuda_nvrtc_cu12-12.6.77-py3-none-manylinux2014_x86_64.whl (23.7 MB)\n",
      "\u001b[2K   \u001b[90m━━━━━━━━━━━━━━━━━━━━━━━━━━━━━━━━━━━━━━━━\u001b[0m \u001b[32m23.7/23.7 MB\u001b[0m \u001b[31m64.9 MB/s\u001b[0m eta \u001b[36m0:00:00\u001b[0m\n",
      "\u001b[?25hDownloading nvidia_cuda_runtime_cu12-12.6.77-py3-none-manylinux2014_x86_64.manylinux_2_17_x86_64.whl (897 kB)\n",
      "\u001b[2K   \u001b[90m━━━━━━━━━━━━━━━━━━━━━━━━━━━━━━━━━━━━━━━━\u001b[0m \u001b[32m897.7/897.7 kB\u001b[0m \u001b[31m36.3 MB/s\u001b[0m eta \u001b[36m0:00:00\u001b[0m\n",
      "\u001b[?25hDownloading nvidia_cudnn_cu12-9.5.1.17-py3-none-manylinux_2_28_x86_64.whl (571.0 MB)\n",
      "\u001b[2K   \u001b[90m━━━━━━━━━━━━━━━━━━━━━━━━━━━━━━━━━━━━━━━━\u001b[0m \u001b[32m571.0/571.0 MB\u001b[0m \u001b[31m2.9 MB/s\u001b[0m eta \u001b[36m0:00:00\u001b[0m\n",
      "\u001b[?25hDownloading nvidia_cufft_cu12-11.3.0.4-py3-none-manylinux2014_x86_64.manylinux_2_17_x86_64.whl (200.2 MB)\n",
      "\u001b[2K   \u001b[90m━━━━━━━━━━━━━━━━━━━━━━━━━━━━━━━━━━━━━━━━\u001b[0m \u001b[32m200.2/200.2 MB\u001b[0m \u001b[31m5.5 MB/s\u001b[0m eta \u001b[36m0:00:00\u001b[0m\n",
      "\u001b[?25hDownloading nvidia_cufile_cu12-1.11.1.6-py3-none-manylinux2014_x86_64.manylinux_2_17_x86_64.whl (1.1 MB)\n",
      "\u001b[2K   \u001b[90m━━━━━━━━━━━━━━━━━━━━━━━━━━━━━━━━━━━━━━━━\u001b[0m \u001b[32m1.1/1.1 MB\u001b[0m \u001b[31m54.9 MB/s\u001b[0m eta \u001b[36m0:00:00\u001b[0m\n",
      "\u001b[?25hDownloading nvidia_curand_cu12-10.3.7.77-py3-none-manylinux2014_x86_64.manylinux_2_17_x86_64.whl (56.3 MB)\n",
      "\u001b[2K   \u001b[90m━━━━━━━━━━━━━━━━━━━━━━━━━━━━━━━━━━━━━━━━\u001b[0m \u001b[32m56.3/56.3 MB\u001b[0m \u001b[31m13.1 MB/s\u001b[0m eta \u001b[36m0:00:00\u001b[0m\n",
      "\u001b[?25hDownloading nvidia_cusolver_cu12-11.7.1.2-py3-none-manylinux2014_x86_64.manylinux_2_17_x86_64.whl (158.2 MB)\n",
      "\u001b[2K   \u001b[90m━━━━━━━━━━━━━━━━━━━━━━━━━━━━━━━━━━━━━━━━\u001b[0m \u001b[32m158.2/158.2 MB\u001b[0m \u001b[31m6.5 MB/s\u001b[0m eta \u001b[36m0:00:00\u001b[0m\n",
      "\u001b[?25hDownloading nvidia_cusparse_cu12-12.5.4.2-py3-none-manylinux2014_x86_64.manylinux_2_17_x86_64.whl (216.6 MB)\n",
      "\u001b[2K   \u001b[90m━━━━━━━━━━━━━━━━━━━━━━━━━━━━━━━━━━━━━━━━\u001b[0m \u001b[32m216.6/216.6 MB\u001b[0m \u001b[31m5.7 MB/s\u001b[0m eta \u001b[36m0:00:00\u001b[0m\n",
      "\u001b[?25hDownloading nvidia_cusparselt_cu12-0.6.3-py3-none-manylinux2014_x86_64.whl (156.8 MB)\n",
      "\u001b[2K   \u001b[90m━━━━━━━━━━━━━━━━━━━━━━━━━━━━━━━━━━━━━━━━\u001b[0m \u001b[32m156.8/156.8 MB\u001b[0m \u001b[31m6.7 MB/s\u001b[0m eta \u001b[36m0:00:00\u001b[0m\n",
      "\u001b[?25hDownloading nvidia_nccl_cu12-2.26.2-py3-none-manylinux2014_x86_64.manylinux_2_17_x86_64.whl (201.3 MB)\n",
      "\u001b[2K   \u001b[90m━━━━━━━━━━━━━━━━━━━━━━━━━━━━━━━━━━━━━━━━\u001b[0m \u001b[32m201.3/201.3 MB\u001b[0m \u001b[31m5.7 MB/s\u001b[0m eta \u001b[36m0:00:00\u001b[0m\n",
      "\u001b[?25hDownloading nvidia_nvjitlink_cu12-12.6.85-py3-none-manylinux2010_x86_64.manylinux_2_12_x86_64.whl (19.7 MB)\n",
      "\u001b[2K   \u001b[90m━━━━━━━━━━━━━━━━━━━━━━━━━━━━━━━━━━━━━━━━\u001b[0m \u001b[32m19.7/19.7 MB\u001b[0m \u001b[31m63.3 MB/s\u001b[0m eta \u001b[36m0:00:00\u001b[0m\n",
      "\u001b[?25hDownloading nvidia_nvtx_cu12-12.6.77-py3-none-manylinux2014_x86_64.manylinux_2_17_x86_64.whl (89 kB)\n",
      "\u001b[2K   \u001b[90m━━━━━━━━━━━━━━━━━━━━━━━━━━━━━━━━━━━━━━━━\u001b[0m \u001b[32m89.3/89.3 kB\u001b[0m \u001b[31m6.5 MB/s\u001b[0m eta \u001b[36m0:00:00\u001b[0m\n",
      "\u001b[?25hDownloading triton-3.3.0-cp311-cp311-manylinux_2_27_x86_64.manylinux_2_28_x86_64.whl (156.5 MB)\n",
      "\u001b[2K   \u001b[90m━━━━━━━━━━━━━━━━━━━━━━━━━━━━━━━━━━━━━━━━\u001b[0m \u001b[32m156.5/156.5 MB\u001b[0m \u001b[31m6.8 MB/s\u001b[0m eta \u001b[36m0:00:00\u001b[0m\n",
      "\u001b[?25hDownloading lightning_utilities-0.14.3-py3-none-any.whl (28 kB)\n",
      "Downloading sympy-1.14.0-py3-none-any.whl (6.3 MB)\n",
      "\u001b[2K   \u001b[90m━━━━━━━━━━━━━━━━━━━━━━━━━━━━━━━━━━━━━━━━\u001b[0m \u001b[32m6.3/6.3 MB\u001b[0m \u001b[31m94.1 MB/s\u001b[0m eta \u001b[36m0:00:00\u001b[0m\n",
      "\u001b[?25hDownloading torchmetrics-1.7.1-py3-none-any.whl (961 kB)\n",
      "\u001b[2K   \u001b[90m━━━━━━━━━━━━━━━━━━━━━━━━━━━━━━━━━━━━━━━━\u001b[0m \u001b[32m961.5/961.5 kB\u001b[0m \u001b[31m53.9 MB/s\u001b[0m eta \u001b[36m0:00:00\u001b[0m\n",
      "\u001b[?25hDownloading pytorch_lightning-2.5.1.post0-py3-none-any.whl (823 kB)\n",
      "\u001b[2K   \u001b[90m━━━━━━━━━━━━━━━━━━━━━━━━━━━━━━━━━━━━━━━━\u001b[0m \u001b[32m823.1/823.1 kB\u001b[0m \u001b[31m50.5 MB/s\u001b[0m eta \u001b[36m0:00:00\u001b[0m\n",
      "\u001b[?25hInstalling collected packages: nvidia-cusparselt-cu12, triton, sympy, nvidia-nvtx-cu12, nvidia-nvjitlink-cu12, nvidia-nccl-cu12, nvidia-curand-cu12, nvidia-cufile-cu12, nvidia-cuda-runtime-cu12, nvidia-cuda-nvrtc-cu12, nvidia-cuda-cupti-cu12, nvidia-cublas-cu12, lightning-utilities, nvidia-cusparse-cu12, nvidia-cufft-cu12, nvidia-cudnn-cu12, matplotlib, hydra-core, nvidia-cusolver-cu12, torch, torchvision, torchmetrics, pytorch-lightning, lightning\n",
      "  Attempting uninstall: nvidia-cusparselt-cu12\n",
      "    Found existing installation: nvidia-cusparselt-cu12 0.6.2\n",
      "    Uninstalling nvidia-cusparselt-cu12-0.6.2:\n",
      "      Successfully uninstalled nvidia-cusparselt-cu12-0.6.2\n",
      "  Attempting uninstall: triton\n",
      "    Found existing installation: triton 3.2.0\n",
      "    Uninstalling triton-3.2.0:\n",
      "      Successfully uninstalled triton-3.2.0\n",
      "  Attempting uninstall: sympy\n",
      "    Found existing installation: sympy 1.13.1\n",
      "    Uninstalling sympy-1.13.1:\n",
      "      Successfully uninstalled sympy-1.13.1\n",
      "  Attempting uninstall: nvidia-nvtx-cu12\n",
      "    Found existing installation: nvidia-nvtx-cu12 12.4.127\n",
      "    Uninstalling nvidia-nvtx-cu12-12.4.127:\n",
      "      Successfully uninstalled nvidia-nvtx-cu12-12.4.127\n",
      "  Attempting uninstall: nvidia-nvjitlink-cu12\n",
      "    Found existing installation: nvidia-nvjitlink-cu12 12.5.82\n",
      "    Uninstalling nvidia-nvjitlink-cu12-12.5.82:\n",
      "      Successfully uninstalled nvidia-nvjitlink-cu12-12.5.82\n",
      "  Attempting uninstall: nvidia-nccl-cu12\n",
      "    Found existing installation: nvidia-nccl-cu12 2.21.5\n",
      "    Uninstalling nvidia-nccl-cu12-2.21.5:\n",
      "      Successfully uninstalled nvidia-nccl-cu12-2.21.5\n",
      "  Attempting uninstall: nvidia-curand-cu12\n",
      "    Found existing installation: nvidia-curand-cu12 10.3.6.82\n",
      "    Uninstalling nvidia-curand-cu12-10.3.6.82:\n",
      "      Successfully uninstalled nvidia-curand-cu12-10.3.6.82\n",
      "  Attempting uninstall: nvidia-cuda-runtime-cu12\n",
      "    Found existing installation: nvidia-cuda-runtime-cu12 12.5.82\n",
      "    Uninstalling nvidia-cuda-runtime-cu12-12.5.82:\n",
      "      Successfully uninstalled nvidia-cuda-runtime-cu12-12.5.82\n",
      "  Attempting uninstall: nvidia-cuda-nvrtc-cu12\n",
      "    Found existing installation: nvidia-cuda-nvrtc-cu12 12.5.82\n",
      "    Uninstalling nvidia-cuda-nvrtc-cu12-12.5.82:\n",
      "      Successfully uninstalled nvidia-cuda-nvrtc-cu12-12.5.82\n",
      "  Attempting uninstall: nvidia-cuda-cupti-cu12\n",
      "    Found existing installation: nvidia-cuda-cupti-cu12 12.5.82\n",
      "    Uninstalling nvidia-cuda-cupti-cu12-12.5.82:\n",
      "      Successfully uninstalled nvidia-cuda-cupti-cu12-12.5.82\n",
      "  Attempting uninstall: nvidia-cublas-cu12\n",
      "    Found existing installation: nvidia-cublas-cu12 12.5.3.2\n",
      "    Uninstalling nvidia-cublas-cu12-12.5.3.2:\n",
      "      Successfully uninstalled nvidia-cublas-cu12-12.5.3.2\n",
      "  Attempting uninstall: nvidia-cusparse-cu12\n",
      "    Found existing installation: nvidia-cusparse-cu12 12.5.1.3\n",
      "    Uninstalling nvidia-cusparse-cu12-12.5.1.3:\n",
      "      Successfully uninstalled nvidia-cusparse-cu12-12.5.1.3\n",
      "  Attempting uninstall: nvidia-cufft-cu12\n",
      "    Found existing installation: nvidia-cufft-cu12 11.2.3.61\n",
      "    Uninstalling nvidia-cufft-cu12-11.2.3.61:\n",
      "      Successfully uninstalled nvidia-cufft-cu12-11.2.3.61\n",
      "  Attempting uninstall: nvidia-cudnn-cu12\n",
      "    Found existing installation: nvidia-cudnn-cu12 9.3.0.75\n",
      "    Uninstalling nvidia-cudnn-cu12-9.3.0.75:\n",
      "      Successfully uninstalled nvidia-cudnn-cu12-9.3.0.75\n",
      "  Attempting uninstall: matplotlib\n",
      "    Found existing installation: matplotlib 3.10.0\n",
      "    Uninstalling matplotlib-3.10.0:\n",
      "      Successfully uninstalled matplotlib-3.10.0\n",
      "  Attempting uninstall: nvidia-cusolver-cu12\n",
      "    Found existing installation: nvidia-cusolver-cu12 11.6.3.83\n",
      "    Uninstalling nvidia-cusolver-cu12-11.6.3.83:\n",
      "      Successfully uninstalled nvidia-cusolver-cu12-11.6.3.83\n",
      "  Attempting uninstall: torch\n",
      "    Found existing installation: torch 2.6.0+cu124\n",
      "    Uninstalling torch-2.6.0+cu124:\n",
      "      Successfully uninstalled torch-2.6.0+cu124\n",
      "  Attempting uninstall: torchvision\n",
      "    Found existing installation: torchvision 0.21.0+cu124\n",
      "    Uninstalling torchvision-0.21.0+cu124:\n",
      "      Successfully uninstalled torchvision-0.21.0+cu124\n",
      "\u001b[31mERROR: pip's dependency resolver does not currently take into account all the packages that are installed. This behaviour is the source of the following dependency conflicts.\n",
      "fastai 2.7.19 requires torch<2.7,>=1.10, but you have torch 2.7.0 which is incompatible.\n",
      "torchaudio 2.6.0+cu124 requires torch==2.6.0, but you have torch 2.7.0 which is incompatible.\u001b[0m\u001b[31m\n",
      "\u001b[0mSuccessfully installed hydra-core-1.3.2 lightning-2.3.3 lightning-utilities-0.14.3 matplotlib-3.10.3 nvidia-cublas-cu12-12.6.4.1 nvidia-cuda-cupti-cu12-12.6.80 nvidia-cuda-nvrtc-cu12-12.6.77 nvidia-cuda-runtime-cu12-12.6.77 nvidia-cudnn-cu12-9.5.1.17 nvidia-cufft-cu12-11.3.0.4 nvidia-cufile-cu12-1.11.1.6 nvidia-curand-cu12-10.3.7.77 nvidia-cusolver-cu12-11.7.1.2 nvidia-cusparse-cu12-12.5.4.2 nvidia-cusparselt-cu12-0.6.3 nvidia-nccl-cu12-2.26.2 nvidia-nvjitlink-cu12-12.6.85 nvidia-nvtx-cu12-12.6.77 pytorch-lightning-2.5.1.post0 sympy-1.14.0 torch-2.7.0 torchmetrics-1.7.1 torchvision-0.22.0 triton-3.3.0\n"
     ]
    }
   ],
   "source": [
    "!pip install -r convlogic/requirements.txt"
   ]
  },
  {
   "cell_type": "code",
   "execution_count": 4,
   "metadata": {
    "colab": {
     "base_uri": "https://localhost:8080/"
    },
    "collapsed": true,
    "id": "utyVTFXOL8YM",
    "outputId": "7254c03d-60e0-4722-f99f-9140a3df54cd"
   },
   "outputs": [
    {
     "name": "stdout",
     "output_type": "stream",
     "text": [
      "Using pip 24.1.2 from /usr/local/lib/python3.11/dist-packages/pip (python 3.11)\n",
      "Processing ./convlogic\n",
      "  Running command Preparing metadata (pyproject.toml)\n",
      "  >>> Building with CUDA support\n",
      "  running dist_info\n",
      "  creating /tmp/pip-modern-metadata-0oyyi325/convlogic.egg-info\n",
      "  writing /tmp/pip-modern-metadata-0oyyi325/convlogic.egg-info/PKG-INFO\n",
      "  writing dependency_links to /tmp/pip-modern-metadata-0oyyi325/convlogic.egg-info/dependency_links.txt\n",
      "  writing requirements to /tmp/pip-modern-metadata-0oyyi325/convlogic.egg-info/requires.txt\n",
      "  writing top-level names to /tmp/pip-modern-metadata-0oyyi325/convlogic.egg-info/top_level.txt\n",
      "  writing manifest file '/tmp/pip-modern-metadata-0oyyi325/convlogic.egg-info/SOURCES.txt'\n",
      "  /usr/local/lib/python3.11/dist-packages/torch/utils/cpp_extension.py:576: UserWarning: Attempted to use ninja as the BuildExtension backend but we could not find ninja.. Falling back to using the slow distutils backend.\n",
      "    warnings.warn(msg.format('we could not find ninja.'))\n",
      "  reading manifest file '/tmp/pip-modern-metadata-0oyyi325/convlogic.egg-info/SOURCES.txt'\n",
      "  adding license file 'LICENSE'\n",
      "  writing manifest file '/tmp/pip-modern-metadata-0oyyi325/convlogic.egg-info/SOURCES.txt'\n",
      "  creating '/tmp/pip-modern-metadata-0oyyi325/convlogic-1.0.0.dist-info'\n",
      "  Preparing metadata (pyproject.toml) ... \u001b[?25l\u001b[?25hdone\n",
      "Building wheels for collected packages: convlogic\n",
      "  Running command Building wheel for convlogic (pyproject.toml)\n",
      "  >>> Building with CUDA support\n",
      "  running bdist_wheel\n",
      "  /usr/local/lib/python3.11/dist-packages/torch/utils/cpp_extension.py:576: UserWarning: Attempted to use ninja as the BuildExtension backend but we could not find ninja.. Falling back to using the slow distutils backend.\n",
      "    warnings.warn(msg.format('we could not find ninja.'))\n",
      "  running build\n",
      "  running build_py\n",
      "  creating build/lib.linux-x86_64-cpython-311/difflogic\n",
      "  copying src/difflogic/functional.py -> build/lib.linux-x86_64-cpython-311/difflogic\n",
      "  copying src/difflogic/difflogic.py -> build/lib.linux-x86_64-cpython-311/difflogic\n",
      "  copying src/difflogic/packbitstensor.py -> build/lib.linux-x86_64-cpython-311/difflogic\n",
      "  copying src/difflogic/compiled_model.py -> build/lib.linux-x86_64-cpython-311/difflogic\n",
      "  copying src/difflogic/__init__.py -> build/lib.linux-x86_64-cpython-311/difflogic\n",
      "  creating build/lib.linux-x86_64-cpython-311/utils\n",
      "  copying src/utils/config.py -> build/lib.linux-x86_64-cpython-311/utils\n",
      "  copying src/utils/seed.py -> build/lib.linux-x86_64-cpython-311/utils\n",
      "  copying src/utils/__init__.py -> build/lib.linux-x86_64-cpython-311/utils\n",
      "  creating build/lib.linux-x86_64-cpython-311/convlogic\n",
      "  copying src/convlogic/treelogic_layer.py -> build/lib.linux-x86_64-cpython-311/convlogic\n",
      "  copying src/convlogic/convlogic_layer.py -> build/lib.linux-x86_64-cpython-311/convlogic\n",
      "  copying src/convlogic/__init__.py -> build/lib.linux-x86_64-cpython-311/convlogic\n",
      "  running egg_info\n",
      "  creating src/convlogic.egg-info\n",
      "  writing src/convlogic.egg-info/PKG-INFO\n",
      "  writing dependency_links to src/convlogic.egg-info/dependency_links.txt\n",
      "  writing requirements to src/convlogic.egg-info/requires.txt\n",
      "  writing top-level names to src/convlogic.egg-info/top_level.txt\n",
      "  writing manifest file 'src/convlogic.egg-info/SOURCES.txt'\n",
      "  reading manifest file 'src/convlogic.egg-info/SOURCES.txt'\n",
      "  adding license file 'LICENSE'\n",
      "  writing manifest file 'src/convlogic.egg-info/SOURCES.txt'\n",
      "  creating build/lib.linux-x86_64-cpython-311/difflogic/cuda\n",
      "  copying src/difflogic/cuda/difflogic.cpp -> build/lib.linux-x86_64-cpython-311/difflogic/cuda\n",
      "  copying src/difflogic/cuda/difflogic_kernel.cu -> build/lib.linux-x86_64-cpython-311/difflogic/cuda\n",
      "  creating build/lib.linux-x86_64-cpython-311/convlogic/cuda\n",
      "  copying src/convlogic/cuda/convlogic.cpp -> build/lib.linux-x86_64-cpython-311/convlogic/cuda\n",
      "  copying src/convlogic/cuda/convlogic_kernel.cu -> build/lib.linux-x86_64-cpython-311/convlogic/cuda\n",
      "  copying src/convlogic/cuda/full_convlogic_kernel.cu -> build/lib.linux-x86_64-cpython-311/convlogic/cuda\n",
      "  copying src/convlogic/cuda/treelogic_kernel.cu -> build/lib.linux-x86_64-cpython-311/convlogic/cuda\n",
      "  running build_ext\n",
      "  /usr/local/lib/python3.11/dist-packages/torch/utils/cpp_extension.py:480: UserWarning: The detected CUDA version (12.5) has a minor version mismatch with the version that was used to compile PyTorch (12.6). Most likely this shouldn't be a problem.\n",
      "    warnings.warn(CUDA_MISMATCH_WARN.format(cuda_str_version, torch.version.cuda))\n",
      "  /usr/local/lib/python3.11/dist-packages/torch/utils/cpp_extension.py:490: UserWarning: There are no x86_64-linux-gnu-g++ version bounds defined for CUDA version 12.5\n",
      "    warnings.warn(f'There are no {compiler_name} version bounds defined for CUDA version {cuda_str_version}')\n",
      "  building 'difflogic_cuda' extension\n",
      "  creating build/temp.linux-x86_64-cpython-311/src/difflogic/cuda\n",
      "  x86_64-linux-gnu-g++ -Wsign-compare -DNDEBUG -g -fwrapv -O2 -Wall -g -fstack-protector-strong -Wformat -Werror=format-security -g -fwrapv -O2 -fPIC -I/content/convlogic/src/common -I/usr/local/lib/python3.11/dist-packages/torch/include -I/usr/local/lib/python3.11/dist-packages/torch/include/torch/csrc/api/include -I/usr/local/cuda/include -I/usr/local/lib/python3.11/dist-packages/torch/include -I/usr/local/lib/python3.11/dist-packages/torch/include/torch/csrc/api/include -I/usr/local/cuda/include -I/usr/include/python3.11 -c src/difflogic/cuda/difflogic.cpp -o build/temp.linux-x86_64-cpython-311/src/difflogic/cuda/difflogic.o -fvisibility=hidden -fdiagnostics-color=always -Wno-deprecated-declarations -O3 -DTORCH_API_INCLUDE_EXTENSION_H -DPYBIND11_COMPILER_TYPE=\\\"_gcc\\\" -DPYBIND11_STDLIB=\\\"_libstdcpp\\\" -DPYBIND11_BUILD_ABI=\\\"_cxxabi1016\\\" -DTORCH_EXTENSION_NAME=difflogic_cuda -D_GLIBCXX_USE_CXX11_ABI=1 -std=c++17\n",
      "  /usr/local/lib/python3.11/dist-packages/torch/utils/cpp_extension.py:2356: UserWarning: TORCH_CUDA_ARCH_LIST is not set, all archs for visible cards are included for compilation.\n",
      "  If this is not desired, please set os.environ['TORCH_CUDA_ARCH_LIST'].\n",
      "    warnings.warn(\n",
      "  /usr/local/cuda/bin/nvcc -I/content/convlogic/src/common -I/usr/local/lib/python3.11/dist-packages/torch/include -I/usr/local/lib/python3.11/dist-packages/torch/include/torch/csrc/api/include -I/usr/local/cuda/include -I/usr/local/lib/python3.11/dist-packages/torch/include -I/usr/local/lib/python3.11/dist-packages/torch/include/torch/csrc/api/include -I/usr/local/cuda/include -I/usr/include/python3.11 -c src/difflogic/cuda/difflogic_kernel.cu -o build/temp.linux-x86_64-cpython-311/src/difflogic/cuda/difflogic_kernel.o -D__CUDA_NO_HALF_OPERATORS__ -D__CUDA_NO_HALF_CONVERSIONS__ -D__CUDA_NO_BFLOAT16_CONVERSIONS__ -D__CUDA_NO_HALF2_OPERATORS__ --expt-relaxed-constexpr --compiler-options '-fPIC' -Wno-deprecated-declarations -O3 -DTORCH_API_INCLUDE_EXTENSION_H -DPYBIND11_COMPILER_TYPE=\\\"_gcc\\\" -DPYBIND11_STDLIB=\\\"_libstdcpp\\\" -DPYBIND11_BUILD_ABI=\\\"_cxxabi1016\\\" -DTORCH_EXTENSION_NAME=difflogic_cuda -D_GLIBCXX_USE_CXX11_ABI=1 -gencode=arch=compute_75,code=compute_75 -gencode=arch=compute_75,code=sm_75 -std=c++17\n",
      "  x86_64-linux-gnu-g++ -Wsign-compare -DNDEBUG -g -fwrapv -O2 -Wall -g -fstack-protector-strong -Wformat -Werror=format-security -g -fwrapv -O2 -shared -Wl,-O1 -Wl,-Bsymbolic-functions build/temp.linux-x86_64-cpython-311/src/difflogic/cuda/difflogic.o build/temp.linux-x86_64-cpython-311/src/difflogic/cuda/difflogic_kernel.o -L/usr/local/lib/python3.11/dist-packages/torch/lib -L/usr/local/cuda/lib64 -L/usr/lib/x86_64-linux-gnu -lc10 -ltorch -ltorch_cpu -ltorch_python -lcudart -lc10_cuda -ltorch_cuda -o build/lib.linux-x86_64-cpython-311/difflogic_cuda.cpython-311-x86_64-linux-gnu.so\n",
      "  building 'convlogic_cuda' extension\n",
      "  creating build/temp.linux-x86_64-cpython-311/src/convlogic/cuda\n",
      "  x86_64-linux-gnu-g++ -Wsign-compare -DNDEBUG -g -fwrapv -O2 -Wall -g -fstack-protector-strong -Wformat -Werror=format-security -g -fwrapv -O2 -fPIC -I/content/convlogic/src/common -I/usr/local/lib/python3.11/dist-packages/torch/include -I/usr/local/lib/python3.11/dist-packages/torch/include/torch/csrc/api/include -I/usr/local/cuda/include -I/usr/local/lib/python3.11/dist-packages/torch/include -I/usr/local/lib/python3.11/dist-packages/torch/include/torch/csrc/api/include -I/usr/local/cuda/include -I/usr/include/python3.11 -c src/convlogic/cuda/convlogic.cpp -o build/temp.linux-x86_64-cpython-311/src/convlogic/cuda/convlogic.o -fvisibility=hidden -fdiagnostics-color=always -Wno-deprecated-declarations -O3 -DTORCH_API_INCLUDE_EXTENSION_H -DPYBIND11_COMPILER_TYPE=\\\"_gcc\\\" -DPYBIND11_STDLIB=\\\"_libstdcpp\\\" -DPYBIND11_BUILD_ABI=\\\"_cxxabi1016\\\" -DTORCH_EXTENSION_NAME=convlogic_cuda -D_GLIBCXX_USE_CXX11_ABI=1 -std=c++17\n",
      "  /usr/local/cuda/bin/nvcc -I/content/convlogic/src/common -I/usr/local/lib/python3.11/dist-packages/torch/include -I/usr/local/lib/python3.11/dist-packages/torch/include/torch/csrc/api/include -I/usr/local/cuda/include -I/usr/local/lib/python3.11/dist-packages/torch/include -I/usr/local/lib/python3.11/dist-packages/torch/include/torch/csrc/api/include -I/usr/local/cuda/include -I/usr/include/python3.11 -c src/convlogic/cuda/convlogic_kernel.cu -o build/temp.linux-x86_64-cpython-311/src/convlogic/cuda/convlogic_kernel.o -D__CUDA_NO_HALF_OPERATORS__ -D__CUDA_NO_HALF_CONVERSIONS__ -D__CUDA_NO_BFLOAT16_CONVERSIONS__ -D__CUDA_NO_HALF2_OPERATORS__ --expt-relaxed-constexpr --compiler-options '-fPIC' -Wno-deprecated-declarations -O3 -DTORCH_API_INCLUDE_EXTENSION_H -DPYBIND11_COMPILER_TYPE=\\\"_gcc\\\" -DPYBIND11_STDLIB=\\\"_libstdcpp\\\" -DPYBIND11_BUILD_ABI=\\\"_cxxabi1016\\\" -DTORCH_EXTENSION_NAME=convlogic_cuda -D_GLIBCXX_USE_CXX11_ABI=1 -gencode=arch=compute_75,code=compute_75 -gencode=arch=compute_75,code=sm_75 -std=c++17\n",
      "  /usr/local/cuda/bin/nvcc -I/content/convlogic/src/common -I/usr/local/lib/python3.11/dist-packages/torch/include -I/usr/local/lib/python3.11/dist-packages/torch/include/torch/csrc/api/include -I/usr/local/cuda/include -I/usr/local/lib/python3.11/dist-packages/torch/include -I/usr/local/lib/python3.11/dist-packages/torch/include/torch/csrc/api/include -I/usr/local/cuda/include -I/usr/include/python3.11 -c src/convlogic/cuda/full_convlogic_kernel.cu -o build/temp.linux-x86_64-cpython-311/src/convlogic/cuda/full_convlogic_kernel.o -D__CUDA_NO_HALF_OPERATORS__ -D__CUDA_NO_HALF_CONVERSIONS__ -D__CUDA_NO_BFLOAT16_CONVERSIONS__ -D__CUDA_NO_HALF2_OPERATORS__ --expt-relaxed-constexpr --compiler-options '-fPIC' -Wno-deprecated-declarations -O3 -DTORCH_API_INCLUDE_EXTENSION_H -DPYBIND11_COMPILER_TYPE=\\\"_gcc\\\" -DPYBIND11_STDLIB=\\\"_libstdcpp\\\" -DPYBIND11_BUILD_ABI=\\\"_cxxabi1016\\\" -DTORCH_EXTENSION_NAME=convlogic_cuda -D_GLIBCXX_USE_CXX11_ABI=1 -gencode=arch=compute_75,code=compute_75 -gencode=arch=compute_75,code=sm_75 -std=c++17\n",
      "  /usr/local/cuda/bin/nvcc -I/content/convlogic/src/common -I/usr/local/lib/python3.11/dist-packages/torch/include -I/usr/local/lib/python3.11/dist-packages/torch/include/torch/csrc/api/include -I/usr/local/cuda/include -I/usr/local/lib/python3.11/dist-packages/torch/include -I/usr/local/lib/python3.11/dist-packages/torch/include/torch/csrc/api/include -I/usr/local/cuda/include -I/usr/include/python3.11 -c src/convlogic/cuda/treelogic_kernel.cu -o build/temp.linux-x86_64-cpython-311/src/convlogic/cuda/treelogic_kernel.o -D__CUDA_NO_HALF_OPERATORS__ -D__CUDA_NO_HALF_CONVERSIONS__ -D__CUDA_NO_BFLOAT16_CONVERSIONS__ -D__CUDA_NO_HALF2_OPERATORS__ --expt-relaxed-constexpr --compiler-options '-fPIC' -Wno-deprecated-declarations -O3 -DTORCH_API_INCLUDE_EXTENSION_H -DPYBIND11_COMPILER_TYPE=\\\"_gcc\\\" -DPYBIND11_STDLIB=\\\"_libstdcpp\\\" -DPYBIND11_BUILD_ABI=\\\"_cxxabi1016\\\" -DTORCH_EXTENSION_NAME=convlogic_cuda -D_GLIBCXX_USE_CXX11_ABI=1 -gencode=arch=compute_75,code=compute_75 -gencode=arch=compute_75,code=sm_75 -std=c++17\n",
      "  x86_64-linux-gnu-g++ -Wsign-compare -DNDEBUG -g -fwrapv -O2 -Wall -g -fstack-protector-strong -Wformat -Werror=format-security -g -fwrapv -O2 -shared -Wl,-O1 -Wl,-Bsymbolic-functions build/temp.linux-x86_64-cpython-311/src/convlogic/cuda/convlogic.o build/temp.linux-x86_64-cpython-311/src/convlogic/cuda/convlogic_kernel.o build/temp.linux-x86_64-cpython-311/src/convlogic/cuda/full_convlogic_kernel.o build/temp.linux-x86_64-cpython-311/src/convlogic/cuda/treelogic_kernel.o -L/usr/local/lib/python3.11/dist-packages/torch/lib -L/usr/local/cuda/lib64 -L/usr/lib/x86_64-linux-gnu -lc10 -ltorch -ltorch_cpu -ltorch_python -lcudart -lc10_cuda -ltorch_cuda -o build/lib.linux-x86_64-cpython-311/convlogic_cuda.cpython-311-x86_64-linux-gnu.so\n",
      "  installing to build/bdist.linux-x86_64/wheel\n",
      "  running install\n",
      "  running install_lib\n",
      "  creating build/bdist.linux-x86_64/wheel\n",
      "  copying build/lib.linux-x86_64-cpython-311/difflogic_cuda.cpython-311-x86_64-linux-gnu.so -> build/bdist.linux-x86_64/wheel/.\n",
      "  creating build/bdist.linux-x86_64/wheel/difflogic\n",
      "  copying build/lib.linux-x86_64-cpython-311/difflogic/functional.py -> build/bdist.linux-x86_64/wheel/./difflogic\n",
      "  copying build/lib.linux-x86_64-cpython-311/difflogic/difflogic.py -> build/bdist.linux-x86_64/wheel/./difflogic\n",
      "  copying build/lib.linux-x86_64-cpython-311/difflogic/packbitstensor.py -> build/bdist.linux-x86_64/wheel/./difflogic\n",
      "  creating build/bdist.linux-x86_64/wheel/difflogic/cuda\n",
      "  copying build/lib.linux-x86_64-cpython-311/difflogic/cuda/difflogic.cpp -> build/bdist.linux-x86_64/wheel/./difflogic/cuda\n",
      "  copying build/lib.linux-x86_64-cpython-311/difflogic/cuda/difflogic_kernel.cu -> build/bdist.linux-x86_64/wheel/./difflogic/cuda\n",
      "  copying build/lib.linux-x86_64-cpython-311/difflogic/compiled_model.py -> build/bdist.linux-x86_64/wheel/./difflogic\n",
      "  copying build/lib.linux-x86_64-cpython-311/difflogic/__init__.py -> build/bdist.linux-x86_64/wheel/./difflogic\n",
      "  creating build/bdist.linux-x86_64/wheel/utils\n",
      "  copying build/lib.linux-x86_64-cpython-311/utils/config.py -> build/bdist.linux-x86_64/wheel/./utils\n",
      "  copying build/lib.linux-x86_64-cpython-311/utils/seed.py -> build/bdist.linux-x86_64/wheel/./utils\n",
      "  copying build/lib.linux-x86_64-cpython-311/utils/__init__.py -> build/bdist.linux-x86_64/wheel/./utils\n",
      "  copying build/lib.linux-x86_64-cpython-311/convlogic_cuda.cpython-311-x86_64-linux-gnu.so -> build/bdist.linux-x86_64/wheel/.\n",
      "  creating build/bdist.linux-x86_64/wheel/convlogic\n",
      "  copying build/lib.linux-x86_64-cpython-311/convlogic/treelogic_layer.py -> build/bdist.linux-x86_64/wheel/./convlogic\n",
      "  copying build/lib.linux-x86_64-cpython-311/convlogic/convlogic_layer.py -> build/bdist.linux-x86_64/wheel/./convlogic\n",
      "  creating build/bdist.linux-x86_64/wheel/convlogic/cuda\n",
      "  copying build/lib.linux-x86_64-cpython-311/convlogic/cuda/convlogic_kernel.cu -> build/bdist.linux-x86_64/wheel/./convlogic/cuda\n",
      "  copying build/lib.linux-x86_64-cpython-311/convlogic/cuda/full_convlogic_kernel.cu -> build/bdist.linux-x86_64/wheel/./convlogic/cuda\n",
      "  copying build/lib.linux-x86_64-cpython-311/convlogic/cuda/convlogic.cpp -> build/bdist.linux-x86_64/wheel/./convlogic/cuda\n",
      "  copying build/lib.linux-x86_64-cpython-311/convlogic/cuda/treelogic_kernel.cu -> build/bdist.linux-x86_64/wheel/./convlogic/cuda\n",
      "  copying build/lib.linux-x86_64-cpython-311/convlogic/__init__.py -> build/bdist.linux-x86_64/wheel/./convlogic\n",
      "  running install_egg_info\n",
      "  Copying src/convlogic.egg-info to build/bdist.linux-x86_64/wheel/./convlogic-1.0.0-py3.11.egg-info\n",
      "  running install_scripts\n",
      "  creating build/bdist.linux-x86_64/wheel/convlogic-1.0.0.dist-info/WHEEL\n",
      "  creating '/tmp/pip-wheel-amv68gqa/.tmp-9cf1zsvz/convlogic-1.0.0-cp311-cp311-linux_x86_64.whl' and adding 'build/bdist.linux-x86_64/wheel' to it\n",
      "  adding 'convlogic_cuda.cpython-311-x86_64-linux-gnu.so'\n",
      "  adding 'difflogic_cuda.cpython-311-x86_64-linux-gnu.so'\n",
      "  adding 'convlogic/__init__.py'\n",
      "  adding 'convlogic/convlogic_layer.py'\n",
      "  adding 'convlogic/treelogic_layer.py'\n",
      "  adding 'convlogic/cuda/convlogic.cpp'\n",
      "  adding 'convlogic/cuda/convlogic_kernel.cu'\n",
      "  adding 'convlogic/cuda/full_convlogic_kernel.cu'\n",
      "  adding 'convlogic/cuda/treelogic_kernel.cu'\n",
      "  adding 'difflogic/__init__.py'\n",
      "  adding 'difflogic/compiled_model.py'\n",
      "  adding 'difflogic/difflogic.py'\n",
      "  adding 'difflogic/functional.py'\n",
      "  adding 'difflogic/packbitstensor.py'\n",
      "  adding 'difflogic/cuda/difflogic.cpp'\n",
      "  adding 'difflogic/cuda/difflogic_kernel.cu'\n",
      "  adding 'utils/__init__.py'\n",
      "  adding 'utils/config.py'\n",
      "  adding 'utils/seed.py'\n",
      "  adding 'convlogic-1.0.0.dist-info/LICENSE'\n",
      "  adding 'convlogic-1.0.0.dist-info/METADATA'\n",
      "  adding 'convlogic-1.0.0.dist-info/WHEEL'\n",
      "  adding 'convlogic-1.0.0.dist-info/top_level.txt'\n",
      "  adding 'convlogic-1.0.0.dist-info/RECORD'\n",
      "  removing build/bdist.linux-x86_64/wheel\n",
      "  Building wheel for convlogic (pyproject.toml) ... \u001b[?25l\u001b[?25hdone\n",
      "  Created wheel for convlogic: filename=convlogic-1.0.0-cp311-cp311-linux_x86_64.whl size=6054178 sha256=cd07552abeb87550be080300379ad12c002555b4b320b26d6d5c71e25d7e7cf1\n",
      "  Stored in directory: /tmp/pip-ephem-wheel-cache-ka1nkrwi/wheels/b2/6f/59/e39a4a533c4d3a7c37dccf0ecd580dfc3dbed2f159f5b73a00\n",
      "Successfully built convlogic\n",
      "Installing collected packages: convlogic\n",
      "Successfully installed convlogic-1.0.0\n"
     ]
    }
   ],
   "source": [
    "!pip install -v convlogic/. --no-deps --no-build-isolation"
   ]
  },
  {
   "cell_type": "code",
   "execution_count": 5,
   "metadata": {
    "id": "eTVwS_CZPK5_"
   },
   "outputs": [],
   "source": [
    "import sys\n",
    "\n",
    "sys.path.append(\"/content/convlogic/src\")"
   ]
  },
  {
   "cell_type": "code",
   "execution_count": 6,
   "metadata": {
    "id": "X2WDEGwTHPdL"
   },
   "outputs": [],
   "source": [
    "import os\n",
    "\n",
    "import pytorch_lightning as pl\n",
    "import torch\n",
    "import torch.nn as nn\n",
    "from data import ConvLogicDataModule\n",
    "from hydra import compose, initialize\n",
    "from hydra.core.global_hydra import GlobalHydra\n",
    "from hydra.utils import get_original_cwd\n",
    "from model import ConvLogicModel\n",
    "from omegaconf import OmegaConf\n",
    "from pytorch_lightning import Trainer\n",
    "from pytorch_lightning.callbacks import EarlyStopping, ModelCheckpoint\n",
    "from pytorch_lightning.loggers import CSVLogger, WandbLogger"
   ]
  },
  {
   "cell_type": "markdown",
   "metadata": {
    "id": "pzD3NRhjcBKG"
   },
   "source": [
    "## ⚙️ Load and Customize Configuration\n",
    "\n",
    "We use Hydra to load the base configuration and optionally override specific parameters such as the number of training epochs, learning rate, or dataset type. These values define the training behavior of the ConvLogic model."
   ]
  },
  {
   "cell_type": "code",
   "execution_count": 7,
   "metadata": {
    "colab": {
     "base_uri": "https://localhost:8080/"
    },
    "id": "WP_3mqeYI0EE",
    "outputId": "2ab97056-2ce1-4f09-91fc-0ca2c2239695"
   },
   "outputs": [
    {
     "name": "stdout",
     "output_type": "stream",
     "text": [
      "general:\n",
      "  seed: 42\n",
      "  profile: false\n",
      "  profile_type: advanced\n",
      "logging:\n",
      "  wandb: false\n",
      "trainer:\n",
      "  max_epochs: 50\n",
      "  accelerator: gpu\n",
      "  devices: 1\n",
      "  deterministic: false\n",
      "data:\n",
      "  num_workers: 2\n",
      "  threshold_levels: null\n",
      "  train_val_split: 0.9\n",
      "  data_dir: ../../data\n",
      "early_stopping:\n",
      "  use: false\n",
      "  monitor: val_eval/acc\n",
      "  min_delta: 0.001\n",
      "  patience: 50\n",
      "  mode: max\n",
      "accuracy_threshold_stop:\n",
      "  monitor: val_no_eval/acc\n",
      "  use: false\n",
      "  epoch: 50\n",
      "  threshold: 0.58\n",
      "evaluate:\n",
      "  checkpoint_path: models/\n",
      "  model_filename: model_mnist_demo\n",
      "model:\n",
      "  lr: 0.02\n",
      "  weight_decay: 0.002\n",
      "  k: 32\n",
      "  tau: 20\n",
      "  dataset_name: mnist\n",
      "  batch_size: 128\n",
      "  input_channels: null\n",
      "  implementation: cuda\n",
      "\n"
     ]
    }
   ],
   "source": [
    "if GlobalHydra.instance().is_initialized():\n",
    "    GlobalHydra.instance().clear()\n",
    "initialize(config_path=\"convlogic/configs\", version_base=\"1.1\")\n",
    "cfg = compose(config_name=\"config\")\n",
    "\n",
    "# Override config if needed\n",
    "cfg.trainer.max_epochs = 50\n",
    "cfg.model.lr: 0.01\n",
    "cfg.model.weight_decay: 0.0\n",
    "cfg.model.k: 16\n",
    "cfg.model.tau: 6.5\n",
    "cfg.model.batch_size: 512\n",
    "cfg.model.dataset_name = \"mnist\"\n",
    "cfg.evaluate.model_filename = \"model_mnist_demo\"\n",
    "cfg.general.seed = 42\n",
    "print(OmegaConf.to_yaml(cfg))"
   ]
  },
  {
   "cell_type": "code",
   "execution_count": 8,
   "metadata": {
    "id": "BqWScDUAI3DC"
   },
   "outputs": [],
   "source": [
    "callbacks = ModelCheckpoint(\n",
    "    monitor=\"val_eval/acc\",\n",
    "    mode=\"max\",\n",
    "    save_top_k=1,\n",
    "    save_last=True,\n",
    "    dirpath=\"models/\",\n",
    "    filename=\"model_cifar10_demo\",\n",
    "    auto_insert_metric_name=False,\n",
    ")"
   ]
  },
  {
   "cell_type": "markdown",
   "metadata": {
    "id": "f7jWszlBcPXj"
   },
   "source": [
    "## Prepare the MNIST Dataset\n",
    "\n",
    "We use `ConvLogicDataModule` to load and preprocess the MNIST dataset. The data is thresholded to convert pixel values into binary inputs. We also extract the number of input channels from the dataset to configure our model."
   ]
  },
  {
   "cell_type": "code",
   "execution_count": 9,
   "metadata": {
    "colab": {
     "base_uri": "https://localhost:8080/"
    },
    "id": "M_uEEi87I4ai",
    "outputId": "7cc5f3f7-3a56-4d7f-bc0d-45d2ffeab3b8"
   },
   "outputs": [
    {
     "name": "stderr",
     "output_type": "stream",
     "text": [
      "100%|██████████| 9.91M/9.91M [00:00<00:00, 54.0MB/s]\n",
      "100%|██████████| 28.9k/28.9k [00:00<00:00, 1.73MB/s]\n",
      "100%|██████████| 1.65M/1.65M [00:00<00:00, 12.7MB/s]\n",
      "100%|██████████| 4.54k/4.54k [00:00<00:00, 2.60MB/s]\n"
     ]
    }
   ],
   "source": [
    "dm = ConvLogicDataModule(\n",
    "    dataset_name=cfg.model.dataset_name,\n",
    "    data_dir=cfg.data.data_dir,\n",
    "    batch_size=cfg.model.batch_size,\n",
    "    num_workers=cfg.data.num_workers,\n",
    "    threshold_levels=cfg.data.threshold_levels,\n",
    "    train_val_split=cfg.data.train_val_split,\n",
    ")\n",
    "dm.prepare_data()\n",
    "dm.setup(\"fit\")\n",
    "\n",
    "cfg.model.input_channels = dm.input_channels"
   ]
  },
  {
   "cell_type": "markdown",
   "metadata": {
    "id": "yndXhT3waeWk"
   },
   "source": [
    "## Define a Custom ConvLogic Model for MNIST\n",
    "\n",
    "Here we define our own neural network using `ConvLogicLayer` for logic-based convolutions and `LogicLayer` for dense logic gate layers.\n",
    "\n",
    "We integrate our custom `ConvLogicMnistModel` into the higher-level `ConvLogicModel` interface, which provides the training and evaluation logic."
   ]
  },
  {
   "cell_type": "code",
   "execution_count": 13,
   "metadata": {
    "id": "SAKk_BjXSAE6"
   },
   "outputs": [],
   "source": [
    "from convlogic import ConvLogicLayer\n",
    "from difflogic import GroupSum, LogicLayer\n",
    "\n",
    "\n",
    "class ConvLogicMnistModel(nn.Module):\n",
    "    \"\"\"\n",
    "    ConvLogic model for MNIST dataset.\n",
    "    \"\"\"\n",
    "\n",
    "    def __init__(self, input_channels=1, input_size=28, k_param=32, tau=6.5, implementation=\"cuda\"):\n",
    "        super().__init__()\n",
    "        c1, c2, c3 = k_param, 3 * k_param, 9 * k_param\n",
    "        # First logic convolution layer with a larger kernel\n",
    "        layers = [\n",
    "            ConvLogicLayer(\n",
    "                in_channels=input_channels,\n",
    "                out_channels=c1,\n",
    "                kernel=5,\n",
    "                padding=0,\n",
    "                residual_init=True,  # Initializes weights to favor A gate (90%) (useful for training stability).\n",
    "                complete=True,  # The full 3-stage logic pipeline: ConvLogic → TreeLogic1 → TreeLogic2.\n",
    "                implementation=implementation,\n",
    "            ),\n",
    "            ConvLogicLayer(\n",
    "                in_channels=c1,\n",
    "                out_channels=c2,\n",
    "                kernel=3,\n",
    "                padding=1,\n",
    "                residual_init=True,\n",
    "                complete=True,\n",
    "                implementation=implementation,\n",
    "            ),\n",
    "            ConvLogicLayer(\n",
    "                in_channels=c2,\n",
    "                out_channels=c3,\n",
    "                kernel=3,\n",
    "                padding=1,\n",
    "                residual_init=True,\n",
    "                complete=True,\n",
    "                implementation=implementation,\n",
    "            ),\n",
    "            # Flatten for fully connected layers\n",
    "            nn.Flatten(),\n",
    "            LogicLayer(81 * k_param, 1280 * k_param, residual_init=False, implementation=implementation),\n",
    "            LogicLayer(1280 * k_param, 640 * k_param, residual_init=False, implementation=implementation),\n",
    "            LogicLayer(640 * k_param, 320 * k_param, residual_init=False, implementation=implementation),\n",
    "            GroupSum(k=10, tau=tau),\n",
    "        ]\n",
    "        self.network = nn.Sequential(*layers)\n",
    "\n",
    "    def forward(self, x):\n",
    "        return self.network(x)\n",
    "\n",
    "\n",
    "model = ConvLogicModel(cfg.model)\n",
    "# Replace the internal model with a custom-defined one\n",
    "model.model = ConvLogicMnistModel(\n",
    "    input_channels=cfg.model.input_channels,\n",
    "    input_size=28,\n",
    "    k_param=cfg.model.k,\n",
    "    tau=cfg.model.tau,\n",
    "    implementation=cfg.model.implementation,\n",
    ")"
   ]
  },
  {
   "cell_type": "markdown",
   "metadata": {
    "id": "FZY3lK12a5-l"
   },
   "source": [
    "## Train the Model\n",
    "\n",
    "Using PyTorch Lightning's `Trainer`, we now begin training our custom model. The training loop includes automatic checkpointing of the best-performing model based on validation accuracy."
   ]
  },
  {
   "cell_type": "code",
   "execution_count": 15,
   "metadata": {
    "colab": {
     "base_uri": "https://localhost:8080/",
     "height": 361,
     "referenced_widgets": [
      "beaac8b929ec4af19b2eecf53f075813",
      "b365ce1ba7064e18888fb5aa7779f82c",
      "56ca79fd9a934e03b7851fc89a02db80",
      "7fa6cb6fd1a94a6cb1b5ca95b5ce382d",
      "18479ab9d2c94aa8b0d7ab77dc47e855",
      "874013a59b7c423683e1fd462276972b",
      "04f0aa3aeba44b108b517c67e0f45d2c",
      "4f6ba55dac114a0cb62e1f9721dd3807",
      "ae428081102e4b4ca2975d36ed82a726",
      "b106683df0c94971b036c0026152d9db",
      "874f6ae3f06a4a0ba0273e7f7c7ba71d",
      "23acdd4b826646e29997902fce9bcd62",
      "a4afe179bfd34ddc9379c3a443a5d1e6",
      "b9b01418e5e24b8baaa950134aca431b",
      "30a2b45090a240f49594c2d3dc5acbbe",
      "afc5f088a10b44e999d5235f2ed079b5",
      "487952b319a743aca34fc6e154513ecc",
      "78da7ff826294f778ba162dd5192974f",
      "2a82c0b8c95d419694752fca2f2abfd7",
      "5c331cc1223c4abc87de8efe8cea82af",
      "5697559ca7af4087a422335a30d3dd84",
      "ab136cbcc1c9459e9a1421f1d06d518b",
      "05969d50f35b487cbcbb524efdcfef4c",
      "a5ce016005a247608d6601b18bb20fdc",
      "ab8616aaf23f495f80735a601c193b74",
      "95dcd5497a1f4263ad77e1b70a81f698",
      "7dfa5a322871497183ae2eb218662c6a",
      "fe3c5fdde5404887a4dce65852300b99",
      "842e36a462ce4f4ab764c4d46de8e34d",
      "724bd4766fcc4507b4d3d5385168754a",
      "6290f38e47eb4e93bdadbc3f607adff6",
      "cf42d61d5d8b4060b91cf51694c174b0",
      "791cddadd50845069cb8c8ee0153a129",
      "ca8a0560ac2a402f998fd206d1447c0d",
      "fb0a2293d4ed40e3894a9d3c1914a2da",
      "265d4883dec3455baa3184c38ee9a759",
      "79ba3abf1e984d039a0a3352b8ad47f3",
      "ad5393821cac4afbb1befa06a25ae112",
      "c88a710319b54cb48b7bc918541c39e2",
      "4551fe2679c845749c410913fb744c8c",
      "af47eda1d21b4837ae28596b3f1e355f",
      "ec82e50ec10c414bbba79fe9fb4bf52d",
      "4d50ab31f66a4d60bcbd6481d78987b9",
      "7f65899744fb40deb558f0fd2b112431",
      "5f25e08e0af14f238aaa0865d6eb3060",
      "f172e7dca7f34024a56c94e715b73e9e",
      "8f8595a7e55b4ec4be4fc95f12af2fd3",
      "7ba6b7f2bfc94cf7804e29a02065885e",
      "59495c64964a4396a82276eeee7a5696",
      "f8e317d9a8de4550bdb5c87f45715e58",
      "23b78ac84ddf4ddebfe9d9b6a0f73564",
      "61895de7f67d4f14a9be2d746ecb0ec0",
      "ee52989f6fc34ef2a5fa6aba75d39034",
      "de46d2f7bd98417bad682dee69121fbf",
      "3f0e2a28f6bf4bc0bd9e5a67c75b39f5",
      "b6f82263c52540a88f9fb90522ee1d11",
      "848ba50c2c824b528a9114a7afb8acec",
      "0a3a9891ea304f309c64c4365e2df82e",
      "00920527b4ab40cd84c6c78cc4f07d41",
      "53571238b0434815b587ab1f54ae9f6b",
      "66620a1855594ef489021c8c5675915c",
      "c3f120acdd0e40918d7de0a7450573c7",
      "90d7b1ed2bd545228c4931e14d7e7979",
      "587d6e028f7d486a8e24d5134500e2d5",
      "23e88d0f9c2446adbb4edc70ecc03af8",
      "ed27eb7718bd413fb3e0075326b4b328",
      "56b807a693d243a9b7f80c5bef4f61ce",
      "fab52bc0243545728e7b12e3767bdf31",
      "c0338070b8284818b2f266a039e56b84",
      "8f8fb16d08df477a8728c63a8345d5a3",
      "3021aae943164f719cf6afb75ad1ba09",
      "d988b807f48f4b15a4a36c0d951387e1",
      "5f36fa5805844d82a35c47f08ccdb98b",
      "700537dee464475f8b949a455fc15cc8",
      "62de9fcacde843638bfd78701c4a95f6",
      "2d06c623fd194ad4848084c4dca2e5ad",
      "ee77f5bc93a140cdbea742fd59a6c0e3",
      "c2bfcfb870254360a3ebf44956f53ec2",
      "361c08bd46344649b5ed934486afae0d",
      "e6b702a6a9084b0d9de5c5687cf0441a",
      "cad96472f99a4a6e84e81dde75554ce9",
      "1ee093d462eb490cb8b4faa31756e5bf",
      "0a7d522a2bf74129accf827e3cfb914d",
      "cf49630c75684607a0e11f0408ac2f0b",
      "28bc22ac8e804530b054499726e9213b",
      "ccf2981c857f47f1a9a7070d76371fea",
      "bd8fa7570bef47f9b7b90b94aab1bc20",
      "9be9421e05a941e6bfd327ffee34b207",
      "37a35a83a7204af0a21737b17dd9d9ed",
      "951b5b4505b14c3984fbfedf902d55ae",
      "d77543421ea54024b91617662841a687",
      "8d0874ece3e044a38f0cf1ff98b8a7fc",
      "3deb9ba9d3b54fc39968aea91f5a4137",
      "71c000ec3a5844468988781aedc19e32",
      "6c730a50f15e45d5bbe8881b82a07059",
      "f4fd6fd22edd491b9f9982cac7d0aaa1",
      "1b94c351b6ec4fcc958fd69602a77c78",
      "a706e794a4a34d928a092b348c1fb2a6",
      "189f4689b3dd423e9b43a7da7a1e936c",
      "644616930f1246c4a74531df1b7f684f",
      "cf736f20642d400a8813714ae47d124c",
      "3943a7dc455e46be9b75ebe41f823d62",
      "e041db4a56dd46a18018d23fe2dc9b16",
      "188370ac077d495fa87cc2485f32c36c",
      "771cd3cb214142bd809c6a747c8e881b",
      "819033fe7bcd4c43a8f42b4f599a41f3",
      "79ae3e94683e489bad52c473422a9b98",
      "fbd8bb69486c463aac331ecaada0104d",
      "8ae49bf5f4024142b4b3485ec01b0173",
      "85536a93c4ad4a34adcad622522faefa",
      "ea08991407a14d3e8461e69727a797df",
      "b2f2b2471ea14b439b5ff207b942169a",
      "58b84e37358d43c3a2a7f26523e2b33f",
      "7b5af6112efa43ed872b177fe41fd19e",
      "e5589438d47a4c118cd703b7757ddcf4",
      "f5d57866d9a445658e44389336ff98c7",
      "875051fb04b540149347c89c6ecaf685",
      "8de466d9d44741e881087608ba9d4f1f",
      "b7bb6aaca5aa417f93d5ad28b7288f63",
      "4e50d0a9d6094c1e8c5017f51d34904a",
      "c8b3407b56a54c2bb751448240744370",
      "06bca95093a24ad89e5177be3f93165b",
      "43b93d49296b49e0957d5075d2044506",
      "90835118209a454c94b9a36a53ceb1ab",
      "b17fc6e60c7f4d52a098d6eb19687a0f",
      "6473c4cc3c79489dacb1f71dd8f26448",
      "19cccf475108485e9e98fe6f63a2c9be",
      "a9d40ca5ed8a4defbb117adbb2422b00",
      "7b56a51bc4d043909509bad94c67a5db",
      "57a6cad98b714d9a8730cbff8ccae92b",
      "3a0c3a8aa9714f74af1f1abd183cfcb2",
      "7bea9fe687c44c77aec78d2e66b53804",
      "2731b25c0dab4f10801760e6acbbc994",
      "aa649ed0c6314a12b161a6c4a0720f99",
      "f393eefb560f4439af262082e6282f34",
      "abaf97e5f5734eeba4f86083e66b2673",
      "fed0e47d827b498ca41b25a59437c023",
      "0bf28d2956a544cbad503a5e8072991d",
      "b659df31a71f4b93aa008f3ba4fac4ad",
      "d3f5a4d22702486189efba377bfdd42e",
      "f76cd23140a74dadb950eb35eae2a6fb",
      "8586ab96633148e98904bfaaace0ec8e",
      "12f8392a9b3b42f98118663a197afc5d",
      "811c36c91a2e47c28d7b7251fe9cda63",
      "be78842653294cf68eb31159c3f96e4c",
      "c62bf40c307b458cbaef078612ae501c",
      "a9b7ad3dea134466883bf3ede7619ba5",
      "8c8a30bd658147a288fe7714d27952d4",
      "5979a6d04a1b4a4f830bccb1ac2affe4",
      "704ccbe08c17420a9a88577f19c1dde6",
      "3e10dd5b98664ff0853e913289db55c2",
      "c3a9e8ccbd974e60b0bd577d3c7c83be",
      "c1476c2ae77f4e5185037b55e1a80752",
      "9349acbced844ad3aa292873b6ab7a53",
      "5341f4c538154d4d8cfe49c894691808",
      "12500e5d607b4f25abdcbf0ab891d657",
      "c176a5a5bdf544299b1d5f6b40a54116",
      "b79d584efc6f4805a71b78d6e2eabfca",
      "ec73eebe4e914f22bef63a3ee14be2d7",
      "c5a553f377a94660bb12dc06710555a0",
      "6acd1c250f90442eae69b586f94e9678",
      "3e7b80da7b7d4a27baaa9c906c08c0cf",
      "1fbce50482694e6da0417ecfc15b7073",
      "b73049c6a8264262b1baf2ae2945054f",
      "0a6c4bc28d904b25abc733434b19b15f",
      "c47d7ef997c845d2aed20c295f4fb4a5",
      "4331c629e8a748e1892abdd0f53c37ba",
      "1d63a0110e4d4d83b60a09f9a99a9d9c",
      "0fc8d1413c66475c9eccc56b3cc23d49",
      "36926ccd73724cba9a4bdd20265e6f11",
      "c1bb6cff94864a20bda01576422458b3",
      "f23234f41f4b49969735d8eca46b86aa",
      "97ba5f3369584968a16840efec430bc1",
      "06239f008cc54f0096962a5955998cf2",
      "3df3f8b6fc05444f8872b8c13fc30815",
      "44eb50cf65914b1bb4326dccb307d48e",
      "e92d7fb9d3e540b187ffc4a9a9252ea9",
      "0f289973a69c4db1b2a7cf0d7d296f15",
      "cb2274753f8f403f9bd5d94dcae55c82",
      "6839295e030b4d11b1c75f404d94b5f1",
      "589a394b05d84d798bc7752997c7b8a1",
      "e42145ad36c94e84ba30a60afa31afc3",
      "c15f7f41b99c4f8b8b9d9dfedb93d26e",
      "55e56bf034de4fec83b2eb1c19e28e75",
      "2a5490d05791482689183c9ee78c4add",
      "d7063acd72574229b211352217caa177",
      "d61499ed4dcb487e915c1d67da8b58e5",
      "6b8202bb69fd4d309a63d43e88d5edbc",
      "994b10de15ad485f952fd6c13be2da87",
      "b2587b998b77480aa926ee867d9d42b2",
      "232db6dc2aa840319c2a6a5b7afad3dd",
      "b43f82a4cdcd451589f572d727f0cfed",
      "8d7fa7feca62491abc2985ef40cb6843",
      "5a869c51bc184b4e97504001b2da1ba7",
      "f5848d3929e8422285a29b6bb08f9792",
      "4e76666e128f4078a0e69a6dc482817f",
      "09400dc1f6944f5cb7eee912fbdc6a81",
      "b909e11b0f8e4b94a8852e37b77aaafa",
      "34dd31474ae441ca8cf68f904b3a9aa7",
      "b21629a32c53439f89d462177346485f",
      "414c5e77da504744ac6860adcf95113e",
      "c839ff0ca66043168e1c7b407f217ec4",
      "c5610781830341af9d1ac4318f893ab3",
      "7ef6f40cbc4d48719e7c6cf7a39fd9a8",
      "3d830985c9a6455f96da6dc00c6567d4",
      "7b2b7187eba947f29aa1d033dc316363",
      "60d591c264b64cb6b53f2eddaede2eba",
      "99bd645e5bca4e2986a05cd9ab411788",
      "1f9aad9ad7fe4c1ca02b9b1a92fc7d1d",
      "c8e587bf1b6d461eb06ad2af8d570d7b",
      "943b355ce10e47c884610d53e13b0ca5",
      "161cdb650fb643e3b0c4c0b506426d5a",
      "69e4c414ec2d49638c5a00ac2e3adafb",
      "74d503201b444b64aaaf5a2646838d9e",
      "58cdb66f354d42dbbaf07c949c4d51f9",
      "2785a32ab18440efac2d85cd369a47ac",
      "d05a30d020674a979d3ccf5d46b35695",
      "4852e0bc48784ed5a722e4e5cdc3e754",
      "8c5b9573f2a44e29954a0aa6689ae3fc",
      "a842e7361792496b88eb34aef97ce04a",
      "793fc46445db448b87361697693f7942",
      "207bc55100be4bd39c079de1a6ca0b66",
      "82d208f8987749d6a860361459e56aff",
      "0008adaf408b45729b22596e25145ac5",
      "5089c648f94346099cac250de8b538f8",
      "d35c1320c8b24b7bbfe0233c0d11bc0c",
      "df3fd2c660084774a6629bcb809121a2",
      "69a60f11556b413a94a869a4c866dc73",
      "9bd96245a6c2450bbd6729ff6ea540ff",
      "d8c39ec7a7564873aebd0034b0c23820",
      "8b48c729b10149e18306845ef1d032f3",
      "d526115d643044efaa254af6881d4a3b",
      "dec07e1581a649e6803299972f262687",
      "41b9f09169e64c13b0fe752b23fc6388",
      "e659a4f0751648ec89e0321cbf44cae2",
      "b4844b14b24245e09ab4bf23d1276688",
      "fe8208dbd48a46b08a85f182d064ab0f",
      "a22819707ddf481aa5ad5d5680ab24e6",
      "e681ab7ac68747e692f96f07e9459f2b",
      "5dc114123af44004a7c2a89787aee0be",
      "dd004b5c08c0476d94e9d4be7b3c4c81",
      "a810a6bebffa4075b30fd78d62376234",
      "7ec29eeb005b4836a056a348627d4006",
      "4f777540ee8c4bb5a6959f253c37648e",
      "0d97278b714a49c4a7393a03824d5fb0",
      "abf5e88f189247469324b7ad96ced1ab",
      "0c730f21c3ee4457a65fb9daaf938159",
      "88eea599ef5b4637b1ca657776a2ef9b",
      "3153d802a88846da909543011292a03f",
      "4f4551ecc9594c598e578fd4c83769fd",
      "add9ca2b50354b8ea499d0a50cae2526",
      "b737905c8e0248d5b414806d783ef97e",
      "26b3b9cffa594de0ad1e0b311b8bb959",
      "0cf01eacc72642c3a0c45d6b5a56caaa",
      "c8587ef8af7d4f8289c9445081ea2cfe",
      "01bb0c50fcf741d19f9b16c213662e8b",
      "aa99f43b3901443e84add68cee79b101",
      "1d59d7a6193e4794a11d68ea366d7105",
      "d9957a95d55945e9a21d77abef7bd609",
      "a0900cdac4664d86b163a48d80538bf8",
      "a9a4bc8fbd5f475ba10f36108fb0484f",
      "984ec4b14c6749ea8717950bae68dd95",
      "30224a37420e4abdae8bf32a40cd3da7",
      "65710930261c4beaa2a5d8b31c906dff",
      "5be04ea7b0c146b9b1903e638b34e569",
      "a2bdabccc6d347a580296aba87ef5797",
      "cf182d39b97d45c2869224a3d0315c12",
      "7544eeed5cb4408182f2dd5ee0a57671",
      "28930709e4a248c8b36a72c08e6e9e40",
      "903462b47167401e8718c2d59604d533",
      "fce7a14bb90140f190c73ff944d4e623",
      "3ce628890cff4d67bc79939aa6a916ea",
      "3a3d2a66d14a4a8b8bfa3a99cbc1ba40",
      "72ccfa2a66bf4b49b317bb81be6bee2d",
      "80ceb51602654a9db813a8352f192a9f",
      "e57d528715b5443e94db95648d4df0a4",
      "fdfd827967e840d1a3115cdf5aca0fc8",
      "b418c6d291e845e5ae50f86c2c4abb4c",
      "59dc96d98a7142b3b49715938d223b08",
      "3dba1aaaaa8340a3b0b7e3a39792839b",
      "ebd5fbcbfda94f2a8b58e6aa8c32f427",
      "2d84c9de8aaf4b3f8b16b91ea6db40c5",
      "987fab00a1844095bf9078c95d0af94b",
      "3f603c738e4346c197bc3f8f118f2da3",
      "b31424d7c0b6436295616b45eb0e21fa",
      "7ad6c2f81b7349658353428da1b15ed5",
      "3761052eb7bf40469e543044a1dea5c5",
      "8b0928c309754566805efe76a8710a9c",
      "9d37ca8eed7f41288fccb47a33fb92b9",
      "8812da6e7fb64378a59b3b4bec1209aa",
      "72bcff3099894cb9b9fe6a0265ca3cc0",
      "f1421786b3414be1a253c5f1b583df31",
      "74eb14e9e935497abf5a43c89f8ad4f6",
      "9027a1e03ad44eae9361e8a5f3db1bf3",
      "5b09ec3420c74cd4818eb03916af0804",
      "fad40d51d3034b308d219ea872f586b1",
      "f6ae8d16beca40129547edc6c651bf61",
      "06af42a33b50465abdbe8c6afdb06715",
      "eb04c48cda274df98cfff90bddaa972d",
      "e13d8c66323345709020263cc547eb14",
      "65a76009668845cfbf265525fcf126b7",
      "13973185e27140be9c792baa927c8d00",
      "97696c663fa441b0a1dc5a4646897530",
      "39252b885729477e8d36aa9bb0151df0",
      "4cba562255e643d6b471188304ee936e",
      "26f73fb8a2a74250acdd59376b09c56c",
      "ccc33db5b4144b86b8a2ecd9da62fd76",
      "3d86d137043c41c1b53dc000b2663d16",
      "0e3eba56ff1b4f02a505105ac031015a",
      "26962f8ac21c4941b77c0305e18f42c8",
      "7df25a30a3814e9683d4f4b6a242c98e",
      "b4f98c39be564d83b3a6fc17336f35d4",
      "a20a0670baca4dbaa2ad3dba778822a6",
      "65f228cac53c4359a69282dd8a63ce6c",
      "31506afea1dc4ee49db29d56c2569618",
      "7a2032880e2b4049b499a83523a2dce0",
      "61c0c4211684404cac20f718a997f3a2",
      "e0894b7b54d049ddbc53473da288ccb7",
      "5975ab17884147e6955c481e963b3809",
      "8177abdf898645b58987dd7facd21d55",
      "a7ecf8a61343434a921059dfc254fa27",
      "6010cd9ce1dd4c66b1aa20df5ecc4c85",
      "da8dbcea2fb8431583b958088c71dda4",
      "91dd7253f9164975b3ac8fb6fff33e1c",
      "a038ea1620a248c0b3c659b5c0aa0376",
      "64b8e0835e2240219538f6541fcb1657",
      "e715e1cd2f994387a7aa84d2663cee61",
      "b1d1c32652584fff906b410a98b5b7b7",
      "418be78f5e654a33bc7152991503237c",
      "719e1a5555b84886806efa1b47917190",
      "29704201016c4adb8209d4cdd9d192cc",
      "c604325aec774921b4c0c925ddfb07cd",
      "135d395fb5534be18945e6169ddb583d",
      "7b437c84984143548776e0f451d23e80",
      "c8872f2b7a7c48d2bdbe9d7405d0d39b",
      "4738908ea6cc450bb5b8bd031f84f97b",
      "5f0c95d18d724ec7b7c1774807ba3e21",
      "f31824983c8346dfa3034527a9e6626e",
      "3c7aa9f825e14a4ebafd9d2d6ba8c60d",
      "855af729e9214d3db718107ffd47d889",
      "b1508d32beba4210b51d1654a94695a3",
      "805afc8e4ea54ebba756153f3f60ab0d",
      "e068cf3b96ab42279bd70b128ce657f7",
      "6dfcdaad803d4598b730fe055b916833",
      "7dab7dc9dcf340c8b7f89a4debc4f4db",
      "cfae8bfefcce4cb7b437e45bcc7fd27a",
      "ad605ecab3e44b4e84c99d7af3f07b3b",
      "91d56e3be641430ab2c17b22dec55257",
      "b3282c7e0ff846818c2619e4ae90dcb5",
      "3c68332fb15a484aa1fb28a4e9536966",
      "b6c9f516b6644621a5114915acdca714",
      "e4e8f10f17674124a0a1c6eaf829f5b1",
      "addf15b64211430d8a92a55fc4f9c8e5",
      "2b2719b81a794dc0919bfecb4a498b46",
      "3e60ca39b5324c6d9d7c2f3fea0d9a64",
      "46703dc9ce8c4c3e9473bcbb7cab323a",
      "357c793e29924acbbdaede95ae4ceece",
      "fe9a51e1d8604a6d8a4ca62f2b3ce45f",
      "063d6af59cd94260aaf15e4079a652e4",
      "3791a361e8224033893b6d18552b6ac3",
      "ac506ceaecbd4653b6cee3dc37d27bfc",
      "76241ed3e0a54ab0b44a890ec502e33a",
      "9a3ca578c33e4080aabce9d6b16f3361",
      "fb668e9aca664c70bc2cc4ce7584abec",
      "9388406182be46a593e7132a6d2e0a92",
      "09b44b70e8a54c4f93c5e4398c7d3396",
      "fca753caa4cb44138221dcb914a7dbc8",
      "e7076d4f5e6a440ab1df3aa1f085bdfe",
      "e3bbcf3962fe4ac184038cb14c122a32",
      "cb8f732b73ea41ca88314f085ad987fb",
      "a801ee2aad4045f98ef4ae81c1ccdef3",
      "5f29a4e2f6be40b4a95f4d13e2cd74d1",
      "81167138671c49909f6089e0c4d20b1a",
      "3ceb5b3000144997bfed495d7544c66b",
      "67a1d6da9d20456ab6f1b8c6d52103e7",
      "45f93e0eb1c646b389d1fa1ebc47fb83",
      "fd63a9d889fd4ca893966aa6e8ac4a57",
      "b770b0cbe3124e8a9a1520c15f56153f",
      "0d77469c1e0b4d5d97332d9d52e0e53e",
      "05b39d2b39ab4e4bbac2e31efc6d4588",
      "679d41cb606f4d408f7158a8182a7712",
      "c6a65095f60046c4a4544a6a667eb22e",
      "ab84c95f35bd44a3b57e57fb96b8e653",
      "8e92163e185740359fec2835eeacda08",
      "96da7555957f40f9b98c04f085260d76",
      "99d25e973a674320b30dac30d7aeb672",
      "9f2d098d5ea94f72abe279f35c9e88ef",
      "5c3e3731e0714d4db66d35d0c9b3f317",
      "d646f5bf1e18400d90a67282999b245f",
      "5fbf469ac64c4721822440d468bc5228",
      "5290e9ef99014691b20b49c2784d7db3",
      "78eda2bc07ff4a9d96dd820d691a6ec2",
      "ddd30d3b29d7468cbb6b1f3a9e51f035",
      "fee4c9051e62447daad340982de32276",
      "a55e47e6cee14c77b57bf43f4ac67526",
      "0ed7e996750c426d94fb4a745b72fd67",
      "829234b93a5a4040a671c08d7fbb0947",
      "8e9f9aee99fb4978a18e68b0f3b969bc",
      "8f95de4d1e4a4c0c83e10f5990264200",
      "cfa09282738c4ba3ae7551e9dde4a17e",
      "fef1c71771b640dca28b23607c714f04",
      "757e4a9c35b34b33a2b680f443e9ab71",
      "191a538b1ca84dce97442da38204e6be",
      "1befa66a774047beb36d56539bf4bc2e",
      "de72c5e45de04d99a01b8cec1958a9fc",
      "3005ba096e7845c2840e6f3cfb50941d",
      "272f2bb02836430d8dc64901c63db7a2",
      "ce165330ffe04cf085514a67e672f315",
      "22290023dd224ead9ab83b0103dc21e8",
      "351afcdddab1464687883868a6758081",
      "7d514776b5f146bc9aef6db159a941ac",
      "a3c7d5cccf74459593803b40840f5a00",
      "6dba9f53e5c642a39930cfd17d721409",
      "d3ba0a5982ca4ffe9fccca73ee2e1a4c",
      "7e31c51a1f8044848af6029d4c15714c",
      "49ca4dd06a4b4f0393159743ac8c8208",
      "c3302333c3244afeb6fae6d55ab98b6d",
      "36e44d42b2f14a0c9894a182143a1765",
      "b2f085ae99884b75a1799008a7c4cf82",
      "befb7c3a8a754e40a39eadaee25b0c34",
      "8c1b42935d784915b96118d0ef99e933",
      "3885a1da64de48149fa5c0b1319483d1",
      "ca6e61e979024841a3cddb8588b07aff",
      "c78aaf8e30ca48dcb1fc5c657bf3c357",
      "02c0dd6908db475bac81241a5aff0048",
      "b8a373b52e824c9e8ea34aade753e242",
      "96d2de2c67814407b4f7e672cab16489",
      "3632da9cea6640bda6c9b7f9f4b88912",
      "88c64f616a924b129f6a1d25273d117a",
      "e447ad05b9154d6ab0fa6197a3a6a988",
      "621af3ee8dfc47fcb7d1fd6422edabdf",
      "afb037e0ad224363a934b921fe0c4123",
      "828c4c0c3a3346e89f3add95864ce0ae",
      "8f6a8b16397e485cb0a0bb38243ea841",
      "18005b2ebcc34c95a244ac487c0fb795",
      "32f39e03998241f7a1af270987bca605",
      "7513b639aec34458b05b742fc85cdaaa",
      "85a2860912364569bcccc2311ba83a05",
      "3c59653b0bdb499a8c1ae80a175a718f",
      "fa42d73dacc7470099d36f2cc837199f",
      "10a7c72340794c60bbf1a35661341bc6",
      "2f3fa6e0341f4c3aa4348d5274628412",
      "7daa1b1e8b8e414995d07d947c1690a7",
      "bfb84e68d7f04c03a9697599d283f716",
      "3f2de051b08146718b4582a4c1f65166",
      "fdc2f0f3b3184bbba1cdf83640d8ff0b",
      "0900678ceaf748789e85a93c65e015ba",
      "97dbd2d8d6d74ea29825604ecf3fe273",
      "b9f3d9ecb9954d8eae7058db7d28cfce",
      "d34c164a64844426ac60646fabb800f9",
      "76b9617bd5fa4f77b2ed0e7f7047cd60",
      "744bace52389438b9d80b2df07fc408d",
      "8ac8f208cb814a57baa7b41cc5909024",
      "8f30c5146d7b4d969e94ea9bc2adeb39",
      "88970a1cade8420bbac0c0104a3c05a9",
      "e1147b25ffcc4f73ad1df6021b59324d",
      "9094c47fa17c4a70b65284731060307a",
      "e670fc0112814515a68a8f4454e9d727",
      "eadd1d11a9e54edbb730dd0ec3770fc4",
      "b4021f6f9fe943f9a30d30f60889a611",
      "5331a59b557a419297526ec5c3aa4e58",
      "b0de2a8dbb2b472fa95d1e2a3bb42628",
      "7bc405da1ff142b99cec295dbcdb6438",
      "4749700b8ef94719a0174ceb65ec2d3a",
      "95cf8b8cc9a644fda9d43088ac34287c",
      "4ddbae0ecfc646dfa3ff3e2ecd1eb5da",
      "282c8b6307bd4e7eb8286ec7b058fb93",
      "b73b459e53eb4358ade865b94e5bd343",
      "e9e0c04f238f4619a47102224c0b5e4d",
      "4a36f05203264ac9b26ee3de5423e821",
      "020ff50fae784e45a4ea4acef848c9de",
      "85d52a08a03c4524af78efb781f828cb",
      "f0d48b1fc2fc409580e2abd15417388d",
      "d6f93267d16f4b0294f0406b407ee209",
      "2d4785e61a2e498194411e2d9cbb9792",
      "e0469d6cf7e34f8c95b19066968f8e71",
      "dc1fcfabaed54f4ea7c1ce6b9c63d368",
      "00283255226a408a909cc72024a1166d",
      "adfa3bea4c8a49049775b656b5f32345",
      "383f9d473778450889c30493a482228c",
      "8a06018515fa485ebcac65327d5d8b41",
      "277f85d1412948a89294bcc962b267ee",
      "356dea57a5ee498ca138933877592228",
      "6f721992c5394232abedb32ff4920a3b",
      "a0159092929e44e5ad1f79a369e2168e",
      "ed4df7e9805c454080a3a48ef4cab79f",
      "e0f32ca9f0994c80ade6f56746b045cf",
      "559ef033815542e18e143e4f8f237eb1",
      "1501f69784974030af1218fa4db98777",
      "4df4620504a7427c989bb868bd026a11",
      "5831442cfef74d16a38973a1d20bae06",
      "c3ea96cfe5984030ab0ee1ee889e5e9b",
      "1575e0dd18ba4df7bf64816554d27568",
      "b38649c446bb45e59a29983b6b48d92c",
      "6b9d7805ac6d4f14a1dddc932397773a",
      "accdcfdd75ef4a1d937b0df1320df771",
      "01df2cdc971d4972a27b37d30fdb0df1",
      "9236126844014c09b08c0ef75102d759",
      "dbd02d5713cc46aa80e91a517ba0d4f3",
      "611fb4e5226f46efb0989fb329ea0ade",
      "5e656996ede247459b6fa76c4831d717",
      "421aea33985f46daacd8c3a6c8e4c854",
      "3af4861655094482b2763d604a124d69",
      "eaf3e8c5ee8f405d9b2d899887528e46",
      "6571fe96b1294fd0bb640840011a0737",
      "b5ac42ac073c49828d544769f9ec5ca1",
      "b5ae0f54031143d6bfb9579098f53a2c",
      "9eade5116ffb436c829e8cd8294eb202",
      "4753cf26d8a043fa8cd520b5cf4578ec",
      "d52e559f425b46a2ac859bac0e49c801",
      "63635438de5b4c4783d154c1a350fe04",
      "f458a566cff34a728bc8d283084107b0",
      "30c5c3184ee044a0a52db4bb5d3be5cb",
      "be3a2ad80df641d2a0eb01ff90b84692",
      "d1ff2a01a9804f1a9ea9f6a2153ab838",
      "f13c87145c2f49e790ec3d126afbd100",
      "a49605d849564838b82e516be7a9ce4a",
      "da5c11a04b0a46968343af9d6a0d106a",
      "9c0bc11e5202458b9a6f3d91b9f72ccd",
      "187dec89415449bba503aadfcab58b88",
      "35dffa0f61784577a7755bfb5e5551d1",
      "b7672cdd5a8640c5bceb7c5da6c1f6f0",
      "546f33afaf5549bca70e3269da95b337",
      "7c2a8511a315420fa7af6b1302e91322",
      "f266d091a5df4d8a96615846232b5f8b",
      "a415a7023a154e3cbc20df9f7f74b494",
      "4b7cb081d6704884ba11ab62c2dfee05",
      "0e312962ab9444c89b3bdc998796779e",
      "eb2a0790138a4dd8966efac61d068ce7",
      "ab8322c9573f4ea58e3b3e8f74059b3e",
      "b3eb1ef0cdf34adab9a8d298ec3b73c7",
      "743bee65a81b451fa39bfece9489602c",
      "d857798f858c48908a11ce600fe7711e",
      "ba044db72de144858fc1e9c555e22ba8",
      "849968ce56724b979b01d7a6067b32f0",
      "c1fa90c39a1945dbb9a751fd378cf55f",
      "db2e98bb195048ddad2b7034ba58076a",
      "572f799f577242a49df5fc71aaf1ea16",
      "43d0f612a72f4043bf03181e0b3e4aa7",
      "4e1e3643a76742a0b68595ef3882f14b",
      "edf3f3f9f1534c65a721660f162a3c8a",
      "c66e532676e64e9f901ab92a2dbe8abf",
      "c09a8152406643d78dd34d5a6f38e99f",
      "1bf3b99b4e0644b2b2ac90779b066ad5",
      "16ea4307192f42bc80e6b639a81e9bbd",
      "4cd75794987f44b7bf4b1fb339d3d29f",
      "3eaaa06579494b2386312d190fd136e6",
      "e5f09cf1d9824c3bb4f1ba1434145cab",
      "e2f97b178a0641cf868f9682ed96cf4e",
      "0181ef0580034699928bcca0c430a1b0",
      "2d93e5bbe95647a8b9ce2dd696316880",
      "19506fee914447f5a0393351677d11cc",
      "c542131f9f2644f983948418a30b8870",
      "93f1b959d3cb41d99d657b6539c8181e",
      "18b31aa847744f21ad43138d5817f19c",
      "0e539369a73a4c6c9f9b70ea0b261c8c",
      "55df353138714c59bb48dada331ee6bf",
      "d33b3523cbc848b4a9cd441448461d5f",
      "4692884589ae44b0b57b669774904782",
      "3f6b3ab9555f4999aa711822b60eeab0",
      "01206af36c894d7c8883fb8bf3cceaa5",
      "c365d5c1d7344512a8e5f6be4a133c9e",
      "eec10e2c52a34bf884744b9b6ca9f840",
      "a0902f80f73246899f5199703efb8733",
      "329afdf11d3844a28273e5140006a8a0",
      "4a53add7c81b448390698b9e47ea79f8",
      "5a4dce75cba94eb99f84dcdf45d20621",
      "24e79199df2b449c84bf14fe4137a719",
      "912cb7e1c54043debe2dd2b8606e99d0",
      "aa0431d19b5e49c0aa226c79af9afe39",
      "d2c5e5cb5f5840f1a7abe46550229297",
      "3d61576b4eb64ce7a5482e52940a0c49"
     ]
    },
    "id": "RDziPdTUI5Vc",
    "outputId": "2af04491-0c2a-44fb-a0e7-67d00bf71593"
   },
   "outputs": [
    {
     "name": "stderr",
     "output_type": "stream",
     "text": [
      "INFO:pytorch_lightning.utilities.rank_zero:GPU available: True (cuda), used: True\n",
      "INFO:pytorch_lightning.utilities.rank_zero:TPU available: False, using: 0 TPU cores\n",
      "INFO:pytorch_lightning.utilities.rank_zero:HPU available: False, using: 0 HPUs\n",
      "INFO:pytorch_lightning.accelerators.cuda:LOCAL_RANK: 0 - CUDA_VISIBLE_DEVICES: [0]\n",
      "INFO:pytorch_lightning.callbacks.model_summary:\n",
      "  | Name      | Type                | Params | Mode \n",
      "----------------------------------------------------------\n",
      "0 | model     | ConvLogicMnistModel | 1.2 M  | train\n",
      "1 | criterion | CrossEntropyLoss    | 0      | train\n",
      "----------------------------------------------------------\n",
      "1.2 M     Trainable params\n",
      "0         Non-trainable params\n",
      "1.2 M     Total params\n",
      "4.774     Total estimated model params size (MB)\n",
      "11        Modules in train mode\n",
      "0         Modules in eval mode\n"
     ]
    },
    {
     "data": {
      "application/vnd.jupyter.widget-view+json": {
       "model_id": "beaac8b929ec4af19b2eecf53f075813",
       "version_major": 2,
       "version_minor": 0
      },
      "text/plain": [
       "Sanity Checking: |          | 0/? [00:00<?, ?it/s]"
      ]
     },
     "metadata": {},
     "output_type": "display_data"
    },
    {
     "data": {
      "application/vnd.jupyter.widget-view+json": {
       "model_id": "23acdd4b826646e29997902fce9bcd62",
       "version_major": 2,
       "version_minor": 0
      },
      "text/plain": [
       "Training: |          | 0/? [00:00<?, ?it/s]"
      ]
     },
     "metadata": {},
     "output_type": "display_data"
    },
    {
     "data": {
      "application/vnd.jupyter.widget-view+json": {
       "model_id": "05969d50f35b487cbcbb524efdcfef4c",
       "version_major": 2,
       "version_minor": 0
      },
      "text/plain": [
       "Validation: |          | 0/? [00:00<?, ?it/s]"
      ]
     },
     "metadata": {},
     "output_type": "display_data"
    },
    {
     "data": {
      "application/vnd.jupyter.widget-view+json": {
       "model_id": "ca8a0560ac2a402f998fd206d1447c0d",
       "version_major": 2,
       "version_minor": 0
      },
      "text/plain": [
       "Validation: |          | 0/? [00:00<?, ?it/s]"
      ]
     },
     "metadata": {},
     "output_type": "display_data"
    },
    {
     "data": {
      "application/vnd.jupyter.widget-view+json": {
       "model_id": "5f25e08e0af14f238aaa0865d6eb3060",
       "version_major": 2,
       "version_minor": 0
      },
      "text/plain": [
       "Validation: |          | 0/? [00:00<?, ?it/s]"
      ]
     },
     "metadata": {},
     "output_type": "display_data"
    },
    {
     "data": {
      "application/vnd.jupyter.widget-view+json": {
       "model_id": "b6f82263c52540a88f9fb90522ee1d11",
       "version_major": 2,
       "version_minor": 0
      },
      "text/plain": [
       "Validation: |          | 0/? [00:00<?, ?it/s]"
      ]
     },
     "metadata": {},
     "output_type": "display_data"
    },
    {
     "data": {
      "application/vnd.jupyter.widget-view+json": {
       "model_id": "56b807a693d243a9b7f80c5bef4f61ce",
       "version_major": 2,
       "version_minor": 0
      },
      "text/plain": [
       "Validation: |          | 0/? [00:00<?, ?it/s]"
      ]
     },
     "metadata": {},
     "output_type": "display_data"
    },
    {
     "data": {
      "application/vnd.jupyter.widget-view+json": {
       "model_id": "c2bfcfb870254360a3ebf44956f53ec2",
       "version_major": 2,
       "version_minor": 0
      },
      "text/plain": [
       "Validation: |          | 0/? [00:00<?, ?it/s]"
      ]
     },
     "metadata": {},
     "output_type": "display_data"
    },
    {
     "data": {
      "application/vnd.jupyter.widget-view+json": {
       "model_id": "37a35a83a7204af0a21737b17dd9d9ed",
       "version_major": 2,
       "version_minor": 0
      },
      "text/plain": [
       "Validation: |          | 0/? [00:00<?, ?it/s]"
      ]
     },
     "metadata": {},
     "output_type": "display_data"
    },
    {
     "data": {
      "application/vnd.jupyter.widget-view+json": {
       "model_id": "644616930f1246c4a74531df1b7f684f",
       "version_major": 2,
       "version_minor": 0
      },
      "text/plain": [
       "Validation: |          | 0/? [00:00<?, ?it/s]"
      ]
     },
     "metadata": {},
     "output_type": "display_data"
    },
    {
     "data": {
      "application/vnd.jupyter.widget-view+json": {
       "model_id": "ea08991407a14d3e8461e69727a797df",
       "version_major": 2,
       "version_minor": 0
      },
      "text/plain": [
       "Validation: |          | 0/? [00:00<?, ?it/s]"
      ]
     },
     "metadata": {},
     "output_type": "display_data"
    },
    {
     "data": {
      "application/vnd.jupyter.widget-view+json": {
       "model_id": "06bca95093a24ad89e5177be3f93165b",
       "version_major": 2,
       "version_minor": 0
      },
      "text/plain": [
       "Validation: |          | 0/? [00:00<?, ?it/s]"
      ]
     },
     "metadata": {},
     "output_type": "display_data"
    },
    {
     "data": {
      "application/vnd.jupyter.widget-view+json": {
       "model_id": "2731b25c0dab4f10801760e6acbbc994",
       "version_major": 2,
       "version_minor": 0
      },
      "text/plain": [
       "Validation: |          | 0/? [00:00<?, ?it/s]"
      ]
     },
     "metadata": {},
     "output_type": "display_data"
    },
    {
     "data": {
      "application/vnd.jupyter.widget-view+json": {
       "model_id": "811c36c91a2e47c28d7b7251fe9cda63",
       "version_major": 2,
       "version_minor": 0
      },
      "text/plain": [
       "Validation: |          | 0/? [00:00<?, ?it/s]"
      ]
     },
     "metadata": {},
     "output_type": "display_data"
    },
    {
     "data": {
      "application/vnd.jupyter.widget-view+json": {
       "model_id": "5341f4c538154d4d8cfe49c894691808",
       "version_major": 2,
       "version_minor": 0
      },
      "text/plain": [
       "Validation: |          | 0/? [00:00<?, ?it/s]"
      ]
     },
     "metadata": {},
     "output_type": "display_data"
    },
    {
     "data": {
      "application/vnd.jupyter.widget-view+json": {
       "model_id": "c47d7ef997c845d2aed20c295f4fb4a5",
       "version_major": 2,
       "version_minor": 0
      },
      "text/plain": [
       "Validation: |          | 0/? [00:00<?, ?it/s]"
      ]
     },
     "metadata": {},
     "output_type": "display_data"
    },
    {
     "data": {
      "application/vnd.jupyter.widget-view+json": {
       "model_id": "e92d7fb9d3e540b187ffc4a9a9252ea9",
       "version_major": 2,
       "version_minor": 0
      },
      "text/plain": [
       "Validation: |          | 0/? [00:00<?, ?it/s]"
      ]
     },
     "metadata": {},
     "output_type": "display_data"
    },
    {
     "data": {
      "application/vnd.jupyter.widget-view+json": {
       "model_id": "6b8202bb69fd4d309a63d43e88d5edbc",
       "version_major": 2,
       "version_minor": 0
      },
      "text/plain": [
       "Validation: |          | 0/? [00:00<?, ?it/s]"
      ]
     },
     "metadata": {},
     "output_type": "display_data"
    },
    {
     "data": {
      "application/vnd.jupyter.widget-view+json": {
       "model_id": "34dd31474ae441ca8cf68f904b3a9aa7",
       "version_major": 2,
       "version_minor": 0
      },
      "text/plain": [
       "Validation: |          | 0/? [00:00<?, ?it/s]"
      ]
     },
     "metadata": {},
     "output_type": "display_data"
    },
    {
     "data": {
      "application/vnd.jupyter.widget-view+json": {
       "model_id": "c8e587bf1b6d461eb06ad2af8d570d7b",
       "version_major": 2,
       "version_minor": 0
      },
      "text/plain": [
       "Validation: |          | 0/? [00:00<?, ?it/s]"
      ]
     },
     "metadata": {},
     "output_type": "display_data"
    },
    {
     "data": {
      "application/vnd.jupyter.widget-view+json": {
       "model_id": "793fc46445db448b87361697693f7942",
       "version_major": 2,
       "version_minor": 0
      },
      "text/plain": [
       "Validation: |          | 0/? [00:00<?, ?it/s]"
      ]
     },
     "metadata": {},
     "output_type": "display_data"
    },
    {
     "data": {
      "application/vnd.jupyter.widget-view+json": {
       "model_id": "d526115d643044efaa254af6881d4a3b",
       "version_major": 2,
       "version_minor": 0
      },
      "text/plain": [
       "Validation: |          | 0/? [00:00<?, ?it/s]"
      ]
     },
     "metadata": {},
     "output_type": "display_data"
    },
    {
     "data": {
      "application/vnd.jupyter.widget-view+json": {
       "model_id": "7ec29eeb005b4836a056a348627d4006",
       "version_major": 2,
       "version_minor": 0
      },
      "text/plain": [
       "Validation: |          | 0/? [00:00<?, ?it/s]"
      ]
     },
     "metadata": {},
     "output_type": "display_data"
    },
    {
     "data": {
      "application/vnd.jupyter.widget-view+json": {
       "model_id": "0cf01eacc72642c3a0c45d6b5a56caaa",
       "version_major": 2,
       "version_minor": 0
      },
      "text/plain": [
       "Validation: |          | 0/? [00:00<?, ?it/s]"
      ]
     },
     "metadata": {},
     "output_type": "display_data"
    },
    {
     "data": {
      "application/vnd.jupyter.widget-view+json": {
       "model_id": "5be04ea7b0c146b9b1903e638b34e569",
       "version_major": 2,
       "version_minor": 0
      },
      "text/plain": [
       "Validation: |          | 0/? [00:00<?, ?it/s]"
      ]
     },
     "metadata": {},
     "output_type": "display_data"
    },
    {
     "data": {
      "application/vnd.jupyter.widget-view+json": {
       "model_id": "e57d528715b5443e94db95648d4df0a4",
       "version_major": 2,
       "version_minor": 0
      },
      "text/plain": [
       "Validation: |          | 0/? [00:00<?, ?it/s]"
      ]
     },
     "metadata": {},
     "output_type": "display_data"
    },
    {
     "data": {
      "application/vnd.jupyter.widget-view+json": {
       "model_id": "3761052eb7bf40469e543044a1dea5c5",
       "version_major": 2,
       "version_minor": 0
      },
      "text/plain": [
       "Validation: |          | 0/? [00:00<?, ?it/s]"
      ]
     },
     "metadata": {},
     "output_type": "display_data"
    },
    {
     "data": {
      "application/vnd.jupyter.widget-view+json": {
       "model_id": "06af42a33b50465abdbe8c6afdb06715",
       "version_major": 2,
       "version_minor": 0
      },
      "text/plain": [
       "Validation: |          | 0/? [00:00<?, ?it/s]"
      ]
     },
     "metadata": {},
     "output_type": "display_data"
    },
    {
     "data": {
      "application/vnd.jupyter.widget-view+json": {
       "model_id": "0e3eba56ff1b4f02a505105ac031015a",
       "version_major": 2,
       "version_minor": 0
      },
      "text/plain": [
       "Validation: |          | 0/? [00:00<?, ?it/s]"
      ]
     },
     "metadata": {},
     "output_type": "display_data"
    },
    {
     "data": {
      "application/vnd.jupyter.widget-view+json": {
       "model_id": "8177abdf898645b58987dd7facd21d55",
       "version_major": 2,
       "version_minor": 0
      },
      "text/plain": [
       "Validation: |          | 0/? [00:00<?, ?it/s]"
      ]
     },
     "metadata": {},
     "output_type": "display_data"
    },
    {
     "data": {
      "application/vnd.jupyter.widget-view+json": {
       "model_id": "29704201016c4adb8209d4cdd9d192cc",
       "version_major": 2,
       "version_minor": 0
      },
      "text/plain": [
       "Validation: |          | 0/? [00:00<?, ?it/s]"
      ]
     },
     "metadata": {},
     "output_type": "display_data"
    },
    {
     "data": {
      "application/vnd.jupyter.widget-view+json": {
       "model_id": "805afc8e4ea54ebba756153f3f60ab0d",
       "version_major": 2,
       "version_minor": 0
      },
      "text/plain": [
       "Validation: |          | 0/? [00:00<?, ?it/s]"
      ]
     },
     "metadata": {},
     "output_type": "display_data"
    },
    {
     "data": {
      "application/vnd.jupyter.widget-view+json": {
       "model_id": "addf15b64211430d8a92a55fc4f9c8e5",
       "version_major": 2,
       "version_minor": 0
      },
      "text/plain": [
       "Validation: |          | 0/? [00:00<?, ?it/s]"
      ]
     },
     "metadata": {},
     "output_type": "display_data"
    },
    {
     "data": {
      "application/vnd.jupyter.widget-view+json": {
       "model_id": "fb668e9aca664c70bc2cc4ce7584abec",
       "version_major": 2,
       "version_minor": 0
      },
      "text/plain": [
       "Validation: |          | 0/? [00:00<?, ?it/s]"
      ]
     },
     "metadata": {},
     "output_type": "display_data"
    },
    {
     "data": {
      "application/vnd.jupyter.widget-view+json": {
       "model_id": "67a1d6da9d20456ab6f1b8c6d52103e7",
       "version_major": 2,
       "version_minor": 0
      },
      "text/plain": [
       "Validation: |          | 0/? [00:00<?, ?it/s]"
      ]
     },
     "metadata": {},
     "output_type": "display_data"
    },
    {
     "data": {
      "application/vnd.jupyter.widget-view+json": {
       "model_id": "99d25e973a674320b30dac30d7aeb672",
       "version_major": 2,
       "version_minor": 0
      },
      "text/plain": [
       "Validation: |          | 0/? [00:00<?, ?it/s]"
      ]
     },
     "metadata": {},
     "output_type": "display_data"
    },
    {
     "data": {
      "application/vnd.jupyter.widget-view+json": {
       "model_id": "829234b93a5a4040a671c08d7fbb0947",
       "version_major": 2,
       "version_minor": 0
      },
      "text/plain": [
       "Validation: |          | 0/? [00:00<?, ?it/s]"
      ]
     },
     "metadata": {},
     "output_type": "display_data"
    },
    {
     "data": {
      "application/vnd.jupyter.widget-view+json": {
       "model_id": "ce165330ffe04cf085514a67e672f315",
       "version_major": 2,
       "version_minor": 0
      },
      "text/plain": [
       "Validation: |          | 0/? [00:00<?, ?it/s]"
      ]
     },
     "metadata": {},
     "output_type": "display_data"
    },
    {
     "data": {
      "application/vnd.jupyter.widget-view+json": {
       "model_id": "b2f085ae99884b75a1799008a7c4cf82",
       "version_major": 2,
       "version_minor": 0
      },
      "text/plain": [
       "Validation: |          | 0/? [00:00<?, ?it/s]"
      ]
     },
     "metadata": {},
     "output_type": "display_data"
    },
    {
     "data": {
      "application/vnd.jupyter.widget-view+json": {
       "model_id": "e447ad05b9154d6ab0fa6197a3a6a988",
       "version_major": 2,
       "version_minor": 0
      },
      "text/plain": [
       "Validation: |          | 0/? [00:00<?, ?it/s]"
      ]
     },
     "metadata": {},
     "output_type": "display_data"
    },
    {
     "data": {
      "application/vnd.jupyter.widget-view+json": {
       "model_id": "10a7c72340794c60bbf1a35661341bc6",
       "version_major": 2,
       "version_minor": 0
      },
      "text/plain": [
       "Validation: |          | 0/? [00:00<?, ?it/s]"
      ]
     },
     "metadata": {},
     "output_type": "display_data"
    },
    {
     "data": {
      "application/vnd.jupyter.widget-view+json": {
       "model_id": "744bace52389438b9d80b2df07fc408d",
       "version_major": 2,
       "version_minor": 0
      },
      "text/plain": [
       "Validation: |          | 0/? [00:00<?, ?it/s]"
      ]
     },
     "metadata": {},
     "output_type": "display_data"
    },
    {
     "data": {
      "application/vnd.jupyter.widget-view+json": {
       "model_id": "7bc405da1ff142b99cec295dbcdb6438",
       "version_major": 2,
       "version_minor": 0
      },
      "text/plain": [
       "Validation: |          | 0/? [00:00<?, ?it/s]"
      ]
     },
     "metadata": {},
     "output_type": "display_data"
    },
    {
     "data": {
      "application/vnd.jupyter.widget-view+json": {
       "model_id": "d6f93267d16f4b0294f0406b407ee209",
       "version_major": 2,
       "version_minor": 0
      },
      "text/plain": [
       "Validation: |          | 0/? [00:00<?, ?it/s]"
      ]
     },
     "metadata": {},
     "output_type": "display_data"
    },
    {
     "data": {
      "application/vnd.jupyter.widget-view+json": {
       "model_id": "a0159092929e44e5ad1f79a369e2168e",
       "version_major": 2,
       "version_minor": 0
      },
      "text/plain": [
       "Validation: |          | 0/? [00:00<?, ?it/s]"
      ]
     },
     "metadata": {},
     "output_type": "display_data"
    },
    {
     "data": {
      "application/vnd.jupyter.widget-view+json": {
       "model_id": "accdcfdd75ef4a1d937b0df1320df771",
       "version_major": 2,
       "version_minor": 0
      },
      "text/plain": [
       "Validation: |          | 0/? [00:00<?, ?it/s]"
      ]
     },
     "metadata": {},
     "output_type": "display_data"
    },
    {
     "data": {
      "application/vnd.jupyter.widget-view+json": {
       "model_id": "b5ae0f54031143d6bfb9579098f53a2c",
       "version_major": 2,
       "version_minor": 0
      },
      "text/plain": [
       "Validation: |          | 0/? [00:00<?, ?it/s]"
      ]
     },
     "metadata": {},
     "output_type": "display_data"
    },
    {
     "data": {
      "application/vnd.jupyter.widget-view+json": {
       "model_id": "da5c11a04b0a46968343af9d6a0d106a",
       "version_major": 2,
       "version_minor": 0
      },
      "text/plain": [
       "Validation: |          | 0/? [00:00<?, ?it/s]"
      ]
     },
     "metadata": {},
     "output_type": "display_data"
    },
    {
     "data": {
      "application/vnd.jupyter.widget-view+json": {
       "model_id": "eb2a0790138a4dd8966efac61d068ce7",
       "version_major": 2,
       "version_minor": 0
      },
      "text/plain": [
       "Validation: |          | 0/? [00:00<?, ?it/s]"
      ]
     },
     "metadata": {},
     "output_type": "display_data"
    },
    {
     "data": {
      "application/vnd.jupyter.widget-view+json": {
       "model_id": "4e1e3643a76742a0b68595ef3882f14b",
       "version_major": 2,
       "version_minor": 0
      },
      "text/plain": [
       "Validation: |          | 0/? [00:00<?, ?it/s]"
      ]
     },
     "metadata": {},
     "output_type": "display_data"
    },
    {
     "data": {
      "application/vnd.jupyter.widget-view+json": {
       "model_id": "2d93e5bbe95647a8b9ce2dd696316880",
       "version_major": 2,
       "version_minor": 0
      },
      "text/plain": [
       "Validation: |          | 0/? [00:00<?, ?it/s]"
      ]
     },
     "metadata": {},
     "output_type": "display_data"
    },
    {
     "data": {
      "application/vnd.jupyter.widget-view+json": {
       "model_id": "c365d5c1d7344512a8e5f6be4a133c9e",
       "version_major": 2,
       "version_minor": 0
      },
      "text/plain": [
       "Validation: |          | 0/? [00:00<?, ?it/s]"
      ]
     },
     "metadata": {},
     "output_type": "display_data"
    },
    {
     "name": "stderr",
     "output_type": "stream",
     "text": [
      "INFO:pytorch_lightning.utilities.rank_zero:`Trainer.fit` stopped: `max_epochs=50` reached.\n"
     ]
    }
   ],
   "source": [
    "trainer = Trainer(\n",
    "    max_epochs=cfg.trainer.max_epochs,\n",
    "    accelerator=\"gpu\",\n",
    "    devices=1,\n",
    "    callbacks=callbacks,\n",
    "    deterministic=cfg.trainer.deterministic,\n",
    ")\n",
    "\n",
    "trainer.fit(model, datamodule=dm)"
   ]
  },
  {
   "cell_type": "markdown",
   "metadata": {
    "id": "AifXIXMLa8uW"
   },
   "source": [
    "## ✅ Evaluate on Test Set\n",
    "\n",
    "After training, we evaluate the final model performance on the held-out MNIST test set.\n",
    "\n",
    "- `test/acc_eval`: Accuracy using **discretized logic gates**, where each gate selects its most likely logic function. This reflects the performance of the model if deployed with fixed, hard logic.\n",
    "- `test/acc`: Accuracy using **probabilistic logic functions**, where the output is a weighted sum over all possible gates. This reflects the soft version used during training."
   ]
  },
  {
   "cell_type": "code",
   "execution_count": 17,
   "metadata": {
    "colab": {
     "base_uri": "https://localhost:8080/",
     "height": 269,
     "referenced_widgets": [
      "a7560daf66314d5684749b7bb7af6657",
      "6adba054cd164566a9ef1522beac8e0d",
      "8259f0b60b6040009e0169e768bf24c0",
      "f44644a3119b41b9b3774fcedae05525",
      "46543ab6ab2b47d59104525378dfe7e3",
      "d46b499fff3e428ba71f32f971c1577f",
      "68682a0dd6e443ceb05196d24744c8c7",
      "7633857326bc4539baf854e3d0024485",
      "48a78c6d77124de5b19a9aa3afbad5df",
      "06693d8283f045c0a1821fe6d52f1ac5",
      "c818d02508dc49c5a0871b7b28bdab6e"
     ]
    },
    "id": "J5SMUzsgI6gj",
    "outputId": "45d554af-65b4-4b38-aa97-0b7ddf7394bc"
   },
   "outputs": [
    {
     "name": "stderr",
     "output_type": "stream",
     "text": [
      "INFO:pytorch_lightning.accelerators.cuda:LOCAL_RANK: 0 - CUDA_VISIBLE_DEVICES: [0]\n"
     ]
    },
    {
     "data": {
      "application/vnd.jupyter.widget-view+json": {
       "model_id": "a7560daf66314d5684749b7bb7af6657",
       "version_major": 2,
       "version_minor": 0
      },
      "text/plain": [
       "Testing: |          | 0/? [00:00<?, ?it/s]"
      ]
     },
     "metadata": {},
     "output_type": "display_data"
    },
    {
     "data": {
      "text/html": [
       "<pre style=\"white-space:pre;overflow-x:auto;line-height:normal;font-family:Menlo,'DejaVu Sans Mono',consolas,'Courier New',monospace\">┏━━━━━━━━━━━━━━━━━━━━━━━━━━━┳━━━━━━━━━━━━━━━━━━━━━━━━━━━┓\n",
       "┃<span style=\"font-weight: bold\">        Test metric        </span>┃<span style=\"font-weight: bold\">       DataLoader 0        </span>┃\n",
       "┡━━━━━━━━━━━━━━━━━━━━━━━━━━━╇━━━━━━━━━━━━━━━━━━━━━━━━━━━┩\n",
       "│<span style=\"color: #008080; text-decoration-color: #008080\">         test/acc          </span>│<span style=\"color: #800080; text-decoration-color: #800080\">    0.9768629670143127     </span>│\n",
       "│<span style=\"color: #008080; text-decoration-color: #008080\">       test/acc_eval       </span>│<span style=\"color: #800080; text-decoration-color: #800080\">    0.9773637652397156     </span>│\n",
       "│<span style=\"color: #008080; text-decoration-color: #008080\">         test/loss         </span>│<span style=\"color: #800080; text-decoration-color: #800080\">    0.08079593628644943    </span>│\n",
       "│<span style=\"color: #008080; text-decoration-color: #008080\">      test/loss_eval       </span>│<span style=\"color: #800080; text-decoration-color: #800080\">    0.08189473301172256    </span>│\n",
       "└───────────────────────────┴───────────────────────────┘\n",
       "</pre>\n"
      ],
      "text/plain": [
       "┏━━━━━━━━━━━━━━━━━━━━━━━━━━━┳━━━━━━━━━━━━━━━━━━━━━━━━━━━┓\n",
       "┃\u001b[1m \u001b[0m\u001b[1m       Test metric       \u001b[0m\u001b[1m \u001b[0m┃\u001b[1m \u001b[0m\u001b[1m      DataLoader 0       \u001b[0m\u001b[1m \u001b[0m┃\n",
       "┡━━━━━━━━━━━━━━━━━━━━━━━━━━━╇━━━━━━━━━━━━━━━━━━━━━━━━━━━┩\n",
       "│\u001b[36m \u001b[0m\u001b[36m        test/acc         \u001b[0m\u001b[36m \u001b[0m│\u001b[35m \u001b[0m\u001b[35m   0.9768629670143127    \u001b[0m\u001b[35m \u001b[0m│\n",
       "│\u001b[36m \u001b[0m\u001b[36m      test/acc_eval      \u001b[0m\u001b[36m \u001b[0m│\u001b[35m \u001b[0m\u001b[35m   0.9773637652397156    \u001b[0m\u001b[35m \u001b[0m│\n",
       "│\u001b[36m \u001b[0m\u001b[36m        test/loss        \u001b[0m\u001b[36m \u001b[0m│\u001b[35m \u001b[0m\u001b[35m   0.08079593628644943   \u001b[0m\u001b[35m \u001b[0m│\n",
       "│\u001b[36m \u001b[0m\u001b[36m     test/loss_eval      \u001b[0m\u001b[36m \u001b[0m│\u001b[35m \u001b[0m\u001b[35m   0.08189473301172256   \u001b[0m\u001b[35m \u001b[0m│\n",
       "└───────────────────────────┴───────────────────────────┘\n"
      ]
     },
     "metadata": {},
     "output_type": "display_data"
    },
    {
     "data": {
      "text/plain": [
       "[{'test/loss_eval': 0.08189473301172256,\n",
       "  'test/acc_eval': 0.9773637652397156,\n",
       "  'test/loss': 0.08079593628644943,\n",
       "  'test/acc': 0.9768629670143127}]"
      ]
     },
     "execution_count": 17,
     "metadata": {},
     "output_type": "execute_result"
    }
   ],
   "source": [
    "trainer.test(model, datamodule=dm)"
   ]
  }
 ],
 "metadata": {
  "accelerator": "GPU",
  "colab": {
   "gpuType": "T4",
   "provenance": []
  },
  "kernelspec": {
   "display_name": "Python 3",
   "name": "python3"
  },
  "language_info": {
   "name": "python"
  }
 },
 "nbformat": 4,
 "nbformat_minor": 0
}
